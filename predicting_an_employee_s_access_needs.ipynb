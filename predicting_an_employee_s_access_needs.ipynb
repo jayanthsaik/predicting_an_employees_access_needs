{
 "cells": [
  {
   "cell_type": "markdown",
   "metadata": {
    "id": "-j--xwCjKCzA",
    "papermill": {
     "duration": 0.042689,
     "end_time": "2020-10-15T16:08:16.777892",
     "exception": false,
     "start_time": "2020-10-15T16:08:16.735203",
     "status": "completed"
    },
    "tags": []
   },
   "source": [
    "- The given problem is related with time wasted in granting and revoking access to the employee within company.  For employee to access any resources he/she needs prior permission i.e. access of that resource. The access granting and revoking process is manual, handled by superviso. As employees move throughout a company, this access discovery/recovery cycle wastes a nontrivial amount of time and money.\n",
    "\n",
    "- <b>Objective:</b> We have to build a model, learned using historical data, that will determine an employee's access needs, such that manual access transactions (grants and revokes) are minimized as the employee's attributes change over time. The model will take an employee's role information and a resource code and will return whether or not access should be granted.\n",
    "\n",
    "\n",
    "- <b>Data:</b> In training dataset, each row has the ACTION (ground truth), RESOURCE, and information about the employee's role at the time of approval.\n",
    "- Following are the features present in the training dataset:\n",
    "    - ACTION: Target variable. ACTION is 1 if the resource was approved, 0 if the resource was not approved.\n",
    "    - RESOURCE: An ID for each resource\n",
    "    - MGR_ID: The EMPLOYEE ID of the manager of the current EMPLOYEE ID record; an employee may have only one manager at a time\n",
    "    - ROLE_ROLLUP_1: Company role grouping category id 1 (e.g. US Engineering)\n",
    "    - ROLE_ROLLUP_2: Company role grouping category id 2 (e.g. US Retail)\n",
    "    - ROLE_DEPTNAME: Company role department name (e.g. Retail)\n",
    "    - ROLE_TITLE: Company role business title description (e.g. Senior Engineering Retail Manager)\n",
    "    - ROLE_FAMILY_DESC: Company role family extended description (e.g. Retail Manager, Software Engineering)\n",
    "    - ROLE_FAMILY: Company role family description (e.g. Retail Manager)\n",
    "    - ROLE_CODE: Company role code; this code is unique to each role (e.g. Manager)\n",
    " \n",
    " \n",
    "- All features has numerical values but all features are categorical features."
   ]
  },
  {
   "cell_type": "code",
   "execution_count": 9,
   "metadata": {
    "execution": {
     "iopub.execute_input": "2020-10-15T16:08:16.872102Z",
     "iopub.status.busy": "2020-10-15T16:08:16.871134Z",
     "iopub.status.idle": "2020-10-15T16:08:17.939531Z",
     "shell.execute_reply": "2020-10-15T16:08:17.938528Z"
    },
    "id": "WTYSflgpKCzB",
    "papermill": {
     "duration": 1.118314,
     "end_time": "2020-10-15T16:08:17.939678",
     "exception": false,
     "start_time": "2020-10-15T16:08:16.821364",
     "status": "completed"
    },
    "tags": []
   },
   "outputs": [],
   "source": [
    "import matplotlib.pyplot as plt\n",
    "import seaborn as sns\n",
    "import numpy as np\n",
    "import pandas as pd\n",
    "\n",
    "import warnings\n",
    "warnings.filterwarnings(\"ignore\")"
   ]
  },
  {
   "cell_type": "code",
   "execution_count": 5,
   "metadata": {
    "scrolled": true
   },
   "outputs": [
    {
     "ename": "SyntaxError",
     "evalue": "invalid syntax (<ipython-input-5-5921c63ba97a>, line 1)",
     "output_type": "error",
     "traceback": [
      "\u001b[1;36m  File \u001b[1;32m\"<ipython-input-5-5921c63ba97a>\"\u001b[1;36m, line \u001b[1;32m1\u001b[0m\n\u001b[1;33m    Importing Datasets\u001b[0m\n\u001b[1;37m                     ^\u001b[0m\n\u001b[1;31mSyntaxError\u001b[0m\u001b[1;31m:\u001b[0m invalid syntax\n"
     ]
    }
   ],
   "source": [
    "Importing Datasets"
   ]
  },
  {
   "cell_type": "code",
   "execution_count": 15,
   "metadata": {},
   "outputs": [
    {
     "name": "stdout",
     "output_type": "stream",
     "text": [
      " Volume in drive C is Windows\n",
      " Volume Serial Number is 6E73-904C\n",
      "\n",
      " Directory of C:\\Users\\THIS PC\\Desktop\\results EMP ACESS\n",
      "\n",
      "01-03-2022  09:57    <DIR>          .\n",
      "01-03-2022  09:50    <DIR>          ..\n",
      "28-02-2022  21:19    <DIR>          .ipynb_checkpoints\n",
      "20-08-2021  22:24    <DIR>          data\n",
      "20-08-2021  22:17         1,585,657 emp results.docx\n",
      "20-08-2021  22:22           207,394 employee access challenge pdf-converted-converted.pdf\n",
      "01-03-2022  09:57           311,583 predicting_an_employee_s_access_needs.ipynb\n",
      "               3 File(s)      2,104,634 bytes\n",
      "               4 Dir(s)  51,114,344,448 bytes free\n"
     ]
    }
   ],
   "source": [
    "ls"
   ]
  },
  {
   "cell_type": "code",
   "execution_count": 16,
   "metadata": {
    "colab": {
     "base_uri": "https://localhost:8080/",
     "height": 220
    },
    "execution": {
     "iopub.execute_input": "2020-10-15T16:08:18.038159Z",
     "iopub.status.busy": "2020-10-15T16:08:18.036943Z",
     "iopub.status.idle": "2020-10-15T16:08:18.144186Z",
     "shell.execute_reply": "2020-10-15T16:08:18.143571Z"
    },
    "id": "6x6s83cWKCzB",
    "outputId": "21905932-2535-4e6d-ea8b-1de4916e152c",
    "papermill": {
     "duration": 0.160527,
     "end_time": "2020-10-15T16:08:18.144317",
     "exception": false,
     "start_time": "2020-10-15T16:08:17.983790",
     "status": "completed"
    },
    "tags": []
   },
   "outputs": [
    {
     "name": "stdout",
     "output_type": "stream",
     "text": [
      "(32769, 10)\n"
     ]
    },
    {
     "data": {
      "text/html": [
       "<div>\n",
       "<style scoped>\n",
       "    .dataframe tbody tr th:only-of-type {\n",
       "        vertical-align: middle;\n",
       "    }\n",
       "\n",
       "    .dataframe tbody tr th {\n",
       "        vertical-align: top;\n",
       "    }\n",
       "\n",
       "    .dataframe thead th {\n",
       "        text-align: right;\n",
       "    }\n",
       "</style>\n",
       "<table border=\"1\" class=\"dataframe\">\n",
       "  <thead>\n",
       "    <tr style=\"text-align: right;\">\n",
       "      <th></th>\n",
       "      <th>ACTION</th>\n",
       "      <th>RESOURCE</th>\n",
       "      <th>MGR_ID</th>\n",
       "      <th>ROLE_ROLLUP_1</th>\n",
       "      <th>ROLE_ROLLUP_2</th>\n",
       "      <th>ROLE_DEPTNAME</th>\n",
       "      <th>ROLE_TITLE</th>\n",
       "      <th>ROLE_FAMILY_DESC</th>\n",
       "      <th>ROLE_FAMILY</th>\n",
       "      <th>ROLE_CODE</th>\n",
       "    </tr>\n",
       "  </thead>\n",
       "  <tbody>\n",
       "    <tr>\n",
       "      <th>0</th>\n",
       "      <td>1</td>\n",
       "      <td>39353</td>\n",
       "      <td>85475</td>\n",
       "      <td>117961</td>\n",
       "      <td>118300</td>\n",
       "      <td>123472</td>\n",
       "      <td>117905</td>\n",
       "      <td>117906</td>\n",
       "      <td>290919</td>\n",
       "      <td>117908</td>\n",
       "    </tr>\n",
       "    <tr>\n",
       "      <th>1</th>\n",
       "      <td>1</td>\n",
       "      <td>17183</td>\n",
       "      <td>1540</td>\n",
       "      <td>117961</td>\n",
       "      <td>118343</td>\n",
       "      <td>123125</td>\n",
       "      <td>118536</td>\n",
       "      <td>118536</td>\n",
       "      <td>308574</td>\n",
       "      <td>118539</td>\n",
       "    </tr>\n",
       "    <tr>\n",
       "      <th>2</th>\n",
       "      <td>1</td>\n",
       "      <td>36724</td>\n",
       "      <td>14457</td>\n",
       "      <td>118219</td>\n",
       "      <td>118220</td>\n",
       "      <td>117884</td>\n",
       "      <td>117879</td>\n",
       "      <td>267952</td>\n",
       "      <td>19721</td>\n",
       "      <td>117880</td>\n",
       "    </tr>\n",
       "    <tr>\n",
       "      <th>3</th>\n",
       "      <td>1</td>\n",
       "      <td>36135</td>\n",
       "      <td>5396</td>\n",
       "      <td>117961</td>\n",
       "      <td>118343</td>\n",
       "      <td>119993</td>\n",
       "      <td>118321</td>\n",
       "      <td>240983</td>\n",
       "      <td>290919</td>\n",
       "      <td>118322</td>\n",
       "    </tr>\n",
       "    <tr>\n",
       "      <th>4</th>\n",
       "      <td>1</td>\n",
       "      <td>42680</td>\n",
       "      <td>5905</td>\n",
       "      <td>117929</td>\n",
       "      <td>117930</td>\n",
       "      <td>119569</td>\n",
       "      <td>119323</td>\n",
       "      <td>123932</td>\n",
       "      <td>19793</td>\n",
       "      <td>119325</td>\n",
       "    </tr>\n",
       "  </tbody>\n",
       "</table>\n",
       "</div>"
      ],
      "text/plain": [
       "   ACTION  RESOURCE  MGR_ID  ROLE_ROLLUP_1  ROLE_ROLLUP_2  ROLE_DEPTNAME  \\\n",
       "0       1     39353   85475         117961         118300         123472   \n",
       "1       1     17183    1540         117961         118343         123125   \n",
       "2       1     36724   14457         118219         118220         117884   \n",
       "3       1     36135    5396         117961         118343         119993   \n",
       "4       1     42680    5905         117929         117930         119569   \n",
       "\n",
       "   ROLE_TITLE  ROLE_FAMILY_DESC  ROLE_FAMILY  ROLE_CODE  \n",
       "0      117905            117906       290919     117908  \n",
       "1      118536            118536       308574     118539  \n",
       "2      117879            267952        19721     117880  \n",
       "3      118321            240983       290919     118322  \n",
       "4      119323            123932        19793     119325  "
      ]
     },
     "execution_count": 16,
     "metadata": {},
     "output_type": "execute_result"
    }
   ],
   "source": [
    "data = pd.read_csv('./data/train.csv')\n",
    "print(data.shape)\n",
    "data.head()"
   ]
  },
  {
   "cell_type": "markdown",
   "metadata": {
    "id": "v62Sf9VRKCzC",
    "papermill": {
     "duration": 0.055283,
     "end_time": "2020-10-15T16:08:18.245037",
     "exception": false,
     "start_time": "2020-10-15T16:08:18.189754",
     "status": "completed"
    },
    "tags": []
   },
   "source": [
    "## Step 2: Data Exploration"
   ]
  },
  {
   "cell_type": "code",
   "execution_count": 17,
   "metadata": {
    "execution": {
     "iopub.execute_input": "2020-10-15T16:08:18.349444Z",
     "iopub.status.busy": "2020-10-15T16:08:18.348286Z",
     "iopub.status.idle": "2020-10-15T16:08:18.353917Z",
     "shell.execute_reply": "2020-10-15T16:08:18.353247Z"
    },
    "id": "7e5eHJUbKCzC",
    "papermill": {
     "duration": 0.063886,
     "end_time": "2020-10-15T16:08:18.354043",
     "exception": false,
     "start_time": "2020-10-15T16:08:18.290157",
     "status": "completed"
    },
    "tags": []
   },
   "outputs": [],
   "source": [
    "data_explore = data.copy()"
   ]
  },
  {
   "cell_type": "code",
   "execution_count": 19,
   "metadata": {},
   "outputs": [
    {
     "ename": "TypeError",
     "evalue": "Cannot interpret '<attribute 'dtype' of 'numpy.generic' objects>' as a data type",
     "output_type": "error",
     "traceback": [
      "\u001b[1;31m---------------------------------------------------------------------------\u001b[0m",
      "\u001b[1;31mTypeError\u001b[0m                                 Traceback (most recent call last)",
      "\u001b[1;32m<ipython-input-19-6208d269f320>\u001b[0m in \u001b[0;36m<module>\u001b[1;34m\u001b[0m\n\u001b[1;32m----> 1\u001b[1;33m \u001b[0mdata\u001b[0m\u001b[1;33m.\u001b[0m\u001b[0minfo\u001b[0m\u001b[1;33m(\u001b[0m\u001b[1;33m)\u001b[0m\u001b[1;33m\u001b[0m\u001b[1;33m\u001b[0m\u001b[0m\n\u001b[0m",
      "\u001b[1;32m~\\anaconda3\\lib\\site-packages\\pandas\\core\\frame.py\u001b[0m in \u001b[0;36minfo\u001b[1;34m(self, verbose, buf, max_cols, memory_usage, null_counts)\u001b[0m\n\u001b[0;32m   2495\u001b[0m                 \u001b[1;32mif\u001b[0m \u001b[1;34m\"object\"\u001b[0m \u001b[1;32min\u001b[0m \u001b[0mcounts\u001b[0m \u001b[1;32mor\u001b[0m \u001b[0mself\u001b[0m\u001b[1;33m.\u001b[0m\u001b[0mindex\u001b[0m\u001b[1;33m.\u001b[0m\u001b[0m_is_memory_usage_qualified\u001b[0m\u001b[1;33m(\u001b[0m\u001b[1;33m)\u001b[0m\u001b[1;33m:\u001b[0m\u001b[1;33m\u001b[0m\u001b[1;33m\u001b[0m\u001b[0m\n\u001b[0;32m   2496\u001b[0m                     \u001b[0msize_qualifier\u001b[0m \u001b[1;33m=\u001b[0m \u001b[1;34m\"+\"\u001b[0m\u001b[1;33m\u001b[0m\u001b[1;33m\u001b[0m\u001b[0m\n\u001b[1;32m-> 2497\u001b[1;33m             \u001b[0mmem_usage\u001b[0m \u001b[1;33m=\u001b[0m \u001b[0mself\u001b[0m\u001b[1;33m.\u001b[0m\u001b[0mmemory_usage\u001b[0m\u001b[1;33m(\u001b[0m\u001b[0mindex\u001b[0m\u001b[1;33m=\u001b[0m\u001b[1;32mTrue\u001b[0m\u001b[1;33m,\u001b[0m \u001b[0mdeep\u001b[0m\u001b[1;33m=\u001b[0m\u001b[0mdeep\u001b[0m\u001b[1;33m)\u001b[0m\u001b[1;33m.\u001b[0m\u001b[0msum\u001b[0m\u001b[1;33m(\u001b[0m\u001b[1;33m)\u001b[0m\u001b[1;33m\u001b[0m\u001b[1;33m\u001b[0m\u001b[0m\n\u001b[0m\u001b[0;32m   2498\u001b[0m             \u001b[0mlines\u001b[0m\u001b[1;33m.\u001b[0m\u001b[0mappend\u001b[0m\u001b[1;33m(\u001b[0m\u001b[1;34mf\"memory usage: {_sizeof_fmt(mem_usage, size_qualifier)}\\n\"\u001b[0m\u001b[1;33m)\u001b[0m\u001b[1;33m\u001b[0m\u001b[1;33m\u001b[0m\u001b[0m\n\u001b[0;32m   2499\u001b[0m         \u001b[0mfmt\u001b[0m\u001b[1;33m.\u001b[0m\u001b[0mbuffer_put_lines\u001b[0m\u001b[1;33m(\u001b[0m\u001b[0mbuf\u001b[0m\u001b[1;33m,\u001b[0m \u001b[0mlines\u001b[0m\u001b[1;33m)\u001b[0m\u001b[1;33m\u001b[0m\u001b[1;33m\u001b[0m\u001b[0m\n",
      "\u001b[1;32m~\\anaconda3\\lib\\site-packages\\pandas\\core\\frame.py\u001b[0m in \u001b[0;36mmemory_usage\u001b[1;34m(self, index, deep)\u001b[0m\n\u001b[0;32m   2588\u001b[0m         )\n\u001b[0;32m   2589\u001b[0m         \u001b[1;32mif\u001b[0m \u001b[0mindex\u001b[0m\u001b[1;33m:\u001b[0m\u001b[1;33m\u001b[0m\u001b[1;33m\u001b[0m\u001b[0m\n\u001b[1;32m-> 2590\u001b[1;33m             result = Series(self.index.memory_usage(deep=deep), index=[\"Index\"]).append(\n\u001b[0m\u001b[0;32m   2591\u001b[0m                 \u001b[0mresult\u001b[0m\u001b[1;33m\u001b[0m\u001b[1;33m\u001b[0m\u001b[0m\n\u001b[0;32m   2592\u001b[0m             )\n",
      "\u001b[1;32m~\\anaconda3\\lib\\site-packages\\pandas\\core\\series.py\u001b[0m in \u001b[0;36m__init__\u001b[1;34m(self, data, index, dtype, name, copy, fastpath)\u001b[0m\n\u001b[0;32m    303\u001b[0m                     \u001b[0mdata\u001b[0m \u001b[1;33m=\u001b[0m \u001b[0mdata\u001b[0m\u001b[1;33m.\u001b[0m\u001b[0mcopy\u001b[0m\u001b[1;33m(\u001b[0m\u001b[1;33m)\u001b[0m\u001b[1;33m\u001b[0m\u001b[1;33m\u001b[0m\u001b[0m\n\u001b[0;32m    304\u001b[0m             \u001b[1;32melse\u001b[0m\u001b[1;33m:\u001b[0m\u001b[1;33m\u001b[0m\u001b[1;33m\u001b[0m\u001b[0m\n\u001b[1;32m--> 305\u001b[1;33m                 \u001b[0mdata\u001b[0m \u001b[1;33m=\u001b[0m \u001b[0msanitize_array\u001b[0m\u001b[1;33m(\u001b[0m\u001b[0mdata\u001b[0m\u001b[1;33m,\u001b[0m \u001b[0mindex\u001b[0m\u001b[1;33m,\u001b[0m \u001b[0mdtype\u001b[0m\u001b[1;33m,\u001b[0m \u001b[0mcopy\u001b[0m\u001b[1;33m,\u001b[0m \u001b[0mraise_cast_failure\u001b[0m\u001b[1;33m=\u001b[0m\u001b[1;32mTrue\u001b[0m\u001b[1;33m)\u001b[0m\u001b[1;33m\u001b[0m\u001b[1;33m\u001b[0m\u001b[0m\n\u001b[0m\u001b[0;32m    306\u001b[0m \u001b[1;33m\u001b[0m\u001b[0m\n\u001b[0;32m    307\u001b[0m                 \u001b[0mdata\u001b[0m \u001b[1;33m=\u001b[0m \u001b[0mSingleBlockManager\u001b[0m\u001b[1;33m(\u001b[0m\u001b[0mdata\u001b[0m\u001b[1;33m,\u001b[0m \u001b[0mindex\u001b[0m\u001b[1;33m,\u001b[0m \u001b[0mfastpath\u001b[0m\u001b[1;33m=\u001b[0m\u001b[1;32mTrue\u001b[0m\u001b[1;33m)\u001b[0m\u001b[1;33m\u001b[0m\u001b[1;33m\u001b[0m\u001b[0m\n",
      "\u001b[1;32m~\\anaconda3\\lib\\site-packages\\pandas\\core\\construction.py\u001b[0m in \u001b[0;36msanitize_array\u001b[1;34m(data, index, dtype, copy, raise_cast_failure)\u001b[0m\n\u001b[0;32m    463\u001b[0m                 \u001b[0mvalue\u001b[0m \u001b[1;33m=\u001b[0m \u001b[0mmaybe_cast_to_datetime\u001b[0m\u001b[1;33m(\u001b[0m\u001b[0mvalue\u001b[0m\u001b[1;33m,\u001b[0m \u001b[0mdtype\u001b[0m\u001b[1;33m)\u001b[0m\u001b[1;33m\u001b[0m\u001b[1;33m\u001b[0m\u001b[0m\n\u001b[0;32m    464\u001b[0m \u001b[1;33m\u001b[0m\u001b[0m\n\u001b[1;32m--> 465\u001b[1;33m             \u001b[0msubarr\u001b[0m \u001b[1;33m=\u001b[0m \u001b[0mconstruct_1d_arraylike_from_scalar\u001b[0m\u001b[1;33m(\u001b[0m\u001b[0mvalue\u001b[0m\u001b[1;33m,\u001b[0m \u001b[0mlen\u001b[0m\u001b[1;33m(\u001b[0m\u001b[0mindex\u001b[0m\u001b[1;33m)\u001b[0m\u001b[1;33m,\u001b[0m \u001b[0mdtype\u001b[0m\u001b[1;33m)\u001b[0m\u001b[1;33m\u001b[0m\u001b[1;33m\u001b[0m\u001b[0m\n\u001b[0m\u001b[0;32m    466\u001b[0m \u001b[1;33m\u001b[0m\u001b[0m\n\u001b[0;32m    467\u001b[0m         \u001b[1;32melse\u001b[0m\u001b[1;33m:\u001b[0m\u001b[1;33m\u001b[0m\u001b[1;33m\u001b[0m\u001b[0m\n",
      "\u001b[1;32m~\\anaconda3\\lib\\site-packages\\pandas\\core\\dtypes\\cast.py\u001b[0m in \u001b[0;36mconstruct_1d_arraylike_from_scalar\u001b[1;34m(value, length, dtype)\u001b[0m\n\u001b[0;32m   1459\u001b[0m                 \u001b[0mvalue\u001b[0m \u001b[1;33m=\u001b[0m \u001b[0mensure_str\u001b[0m\u001b[1;33m(\u001b[0m\u001b[0mvalue\u001b[0m\u001b[1;33m)\u001b[0m\u001b[1;33m\u001b[0m\u001b[1;33m\u001b[0m\u001b[0m\n\u001b[0;32m   1460\u001b[0m \u001b[1;33m\u001b[0m\u001b[0m\n\u001b[1;32m-> 1461\u001b[1;33m         \u001b[0msubarr\u001b[0m \u001b[1;33m=\u001b[0m \u001b[0mnp\u001b[0m\u001b[1;33m.\u001b[0m\u001b[0mempty\u001b[0m\u001b[1;33m(\u001b[0m\u001b[0mlength\u001b[0m\u001b[1;33m,\u001b[0m \u001b[0mdtype\u001b[0m\u001b[1;33m=\u001b[0m\u001b[0mdtype\u001b[0m\u001b[1;33m)\u001b[0m\u001b[1;33m\u001b[0m\u001b[1;33m\u001b[0m\u001b[0m\n\u001b[0m\u001b[0;32m   1462\u001b[0m         \u001b[0msubarr\u001b[0m\u001b[1;33m.\u001b[0m\u001b[0mfill\u001b[0m\u001b[1;33m(\u001b[0m\u001b[0mvalue\u001b[0m\u001b[1;33m)\u001b[0m\u001b[1;33m\u001b[0m\u001b[1;33m\u001b[0m\u001b[0m\n\u001b[0;32m   1463\u001b[0m \u001b[1;33m\u001b[0m\u001b[0m\n",
      "\u001b[1;31mTypeError\u001b[0m: Cannot interpret '<attribute 'dtype' of 'numpy.generic' objects>' as a data type"
     ]
    }
   ],
   "source": [
    "data.info()"
   ]
  },
  {
   "cell_type": "code",
   "execution_count": 18,
   "metadata": {
    "colab": {
     "base_uri": "https://localhost:8080/"
    },
    "execution": {
     "iopub.execute_input": "2020-10-15T16:08:18.453482Z",
     "iopub.status.busy": "2020-10-15T16:08:18.452289Z",
     "iopub.status.idle": "2020-10-15T16:08:18.467495Z",
     "shell.execute_reply": "2020-10-15T16:08:18.466716Z"
    },
    "id": "VkHoNcG7KCzD",
    "outputId": "eac0cef3-4a5e-4b5f-859b-f7b695f7dd1f",
    "papermill": {
     "duration": 0.068238,
     "end_time": "2020-10-15T16:08:18.467626",
     "exception": false,
     "start_time": "2020-10-15T16:08:18.399388",
     "status": "completed"
    },
    "tags": []
   },
   "outputs": [
    {
     "ename": "TypeError",
     "evalue": "Cannot interpret '<attribute 'dtype' of 'numpy.generic' objects>' as a data type",
     "output_type": "error",
     "traceback": [
      "\u001b[1;31m---------------------------------------------------------------------------\u001b[0m",
      "\u001b[1;31mTypeError\u001b[0m                                 Traceback (most recent call last)",
      "\u001b[1;32m<ipython-input-18-366098d6a7a5>\u001b[0m in \u001b[0;36m<module>\u001b[1;34m\u001b[0m\n\u001b[1;32m----> 1\u001b[1;33m \u001b[0mdata_explore\u001b[0m\u001b[1;33m.\u001b[0m\u001b[0minfo\u001b[0m\u001b[1;33m(\u001b[0m\u001b[1;33m)\u001b[0m\u001b[1;33m\u001b[0m\u001b[1;33m\u001b[0m\u001b[0m\n\u001b[0m",
      "\u001b[1;32m~\\anaconda3\\lib\\site-packages\\pandas\\core\\frame.py\u001b[0m in \u001b[0;36minfo\u001b[1;34m(self, verbose, buf, max_cols, memory_usage, null_counts)\u001b[0m\n\u001b[0;32m   2495\u001b[0m                 \u001b[1;32mif\u001b[0m \u001b[1;34m\"object\"\u001b[0m \u001b[1;32min\u001b[0m \u001b[0mcounts\u001b[0m \u001b[1;32mor\u001b[0m \u001b[0mself\u001b[0m\u001b[1;33m.\u001b[0m\u001b[0mindex\u001b[0m\u001b[1;33m.\u001b[0m\u001b[0m_is_memory_usage_qualified\u001b[0m\u001b[1;33m(\u001b[0m\u001b[1;33m)\u001b[0m\u001b[1;33m:\u001b[0m\u001b[1;33m\u001b[0m\u001b[1;33m\u001b[0m\u001b[0m\n\u001b[0;32m   2496\u001b[0m                     \u001b[0msize_qualifier\u001b[0m \u001b[1;33m=\u001b[0m \u001b[1;34m\"+\"\u001b[0m\u001b[1;33m\u001b[0m\u001b[1;33m\u001b[0m\u001b[0m\n\u001b[1;32m-> 2497\u001b[1;33m             \u001b[0mmem_usage\u001b[0m \u001b[1;33m=\u001b[0m \u001b[0mself\u001b[0m\u001b[1;33m.\u001b[0m\u001b[0mmemory_usage\u001b[0m\u001b[1;33m(\u001b[0m\u001b[0mindex\u001b[0m\u001b[1;33m=\u001b[0m\u001b[1;32mTrue\u001b[0m\u001b[1;33m,\u001b[0m \u001b[0mdeep\u001b[0m\u001b[1;33m=\u001b[0m\u001b[0mdeep\u001b[0m\u001b[1;33m)\u001b[0m\u001b[1;33m.\u001b[0m\u001b[0msum\u001b[0m\u001b[1;33m(\u001b[0m\u001b[1;33m)\u001b[0m\u001b[1;33m\u001b[0m\u001b[1;33m\u001b[0m\u001b[0m\n\u001b[0m\u001b[0;32m   2498\u001b[0m             \u001b[0mlines\u001b[0m\u001b[1;33m.\u001b[0m\u001b[0mappend\u001b[0m\u001b[1;33m(\u001b[0m\u001b[1;34mf\"memory usage: {_sizeof_fmt(mem_usage, size_qualifier)}\\n\"\u001b[0m\u001b[1;33m)\u001b[0m\u001b[1;33m\u001b[0m\u001b[1;33m\u001b[0m\u001b[0m\n\u001b[0;32m   2499\u001b[0m         \u001b[0mfmt\u001b[0m\u001b[1;33m.\u001b[0m\u001b[0mbuffer_put_lines\u001b[0m\u001b[1;33m(\u001b[0m\u001b[0mbuf\u001b[0m\u001b[1;33m,\u001b[0m \u001b[0mlines\u001b[0m\u001b[1;33m)\u001b[0m\u001b[1;33m\u001b[0m\u001b[1;33m\u001b[0m\u001b[0m\n",
      "\u001b[1;32m~\\anaconda3\\lib\\site-packages\\pandas\\core\\frame.py\u001b[0m in \u001b[0;36mmemory_usage\u001b[1;34m(self, index, deep)\u001b[0m\n\u001b[0;32m   2588\u001b[0m         )\n\u001b[0;32m   2589\u001b[0m         \u001b[1;32mif\u001b[0m \u001b[0mindex\u001b[0m\u001b[1;33m:\u001b[0m\u001b[1;33m\u001b[0m\u001b[1;33m\u001b[0m\u001b[0m\n\u001b[1;32m-> 2590\u001b[1;33m             result = Series(self.index.memory_usage(deep=deep), index=[\"Index\"]).append(\n\u001b[0m\u001b[0;32m   2591\u001b[0m                 \u001b[0mresult\u001b[0m\u001b[1;33m\u001b[0m\u001b[1;33m\u001b[0m\u001b[0m\n\u001b[0;32m   2592\u001b[0m             )\n",
      "\u001b[1;32m~\\anaconda3\\lib\\site-packages\\pandas\\core\\series.py\u001b[0m in \u001b[0;36m__init__\u001b[1;34m(self, data, index, dtype, name, copy, fastpath)\u001b[0m\n\u001b[0;32m    303\u001b[0m                     \u001b[0mdata\u001b[0m \u001b[1;33m=\u001b[0m \u001b[0mdata\u001b[0m\u001b[1;33m.\u001b[0m\u001b[0mcopy\u001b[0m\u001b[1;33m(\u001b[0m\u001b[1;33m)\u001b[0m\u001b[1;33m\u001b[0m\u001b[1;33m\u001b[0m\u001b[0m\n\u001b[0;32m    304\u001b[0m             \u001b[1;32melse\u001b[0m\u001b[1;33m:\u001b[0m\u001b[1;33m\u001b[0m\u001b[1;33m\u001b[0m\u001b[0m\n\u001b[1;32m--> 305\u001b[1;33m                 \u001b[0mdata\u001b[0m \u001b[1;33m=\u001b[0m \u001b[0msanitize_array\u001b[0m\u001b[1;33m(\u001b[0m\u001b[0mdata\u001b[0m\u001b[1;33m,\u001b[0m \u001b[0mindex\u001b[0m\u001b[1;33m,\u001b[0m \u001b[0mdtype\u001b[0m\u001b[1;33m,\u001b[0m \u001b[0mcopy\u001b[0m\u001b[1;33m,\u001b[0m \u001b[0mraise_cast_failure\u001b[0m\u001b[1;33m=\u001b[0m\u001b[1;32mTrue\u001b[0m\u001b[1;33m)\u001b[0m\u001b[1;33m\u001b[0m\u001b[1;33m\u001b[0m\u001b[0m\n\u001b[0m\u001b[0;32m    306\u001b[0m \u001b[1;33m\u001b[0m\u001b[0m\n\u001b[0;32m    307\u001b[0m                 \u001b[0mdata\u001b[0m \u001b[1;33m=\u001b[0m \u001b[0mSingleBlockManager\u001b[0m\u001b[1;33m(\u001b[0m\u001b[0mdata\u001b[0m\u001b[1;33m,\u001b[0m \u001b[0mindex\u001b[0m\u001b[1;33m,\u001b[0m \u001b[0mfastpath\u001b[0m\u001b[1;33m=\u001b[0m\u001b[1;32mTrue\u001b[0m\u001b[1;33m)\u001b[0m\u001b[1;33m\u001b[0m\u001b[1;33m\u001b[0m\u001b[0m\n",
      "\u001b[1;32m~\\anaconda3\\lib\\site-packages\\pandas\\core\\construction.py\u001b[0m in \u001b[0;36msanitize_array\u001b[1;34m(data, index, dtype, copy, raise_cast_failure)\u001b[0m\n\u001b[0;32m    463\u001b[0m                 \u001b[0mvalue\u001b[0m \u001b[1;33m=\u001b[0m \u001b[0mmaybe_cast_to_datetime\u001b[0m\u001b[1;33m(\u001b[0m\u001b[0mvalue\u001b[0m\u001b[1;33m,\u001b[0m \u001b[0mdtype\u001b[0m\u001b[1;33m)\u001b[0m\u001b[1;33m\u001b[0m\u001b[1;33m\u001b[0m\u001b[0m\n\u001b[0;32m    464\u001b[0m \u001b[1;33m\u001b[0m\u001b[0m\n\u001b[1;32m--> 465\u001b[1;33m             \u001b[0msubarr\u001b[0m \u001b[1;33m=\u001b[0m \u001b[0mconstruct_1d_arraylike_from_scalar\u001b[0m\u001b[1;33m(\u001b[0m\u001b[0mvalue\u001b[0m\u001b[1;33m,\u001b[0m \u001b[0mlen\u001b[0m\u001b[1;33m(\u001b[0m\u001b[0mindex\u001b[0m\u001b[1;33m)\u001b[0m\u001b[1;33m,\u001b[0m \u001b[0mdtype\u001b[0m\u001b[1;33m)\u001b[0m\u001b[1;33m\u001b[0m\u001b[1;33m\u001b[0m\u001b[0m\n\u001b[0m\u001b[0;32m    466\u001b[0m \u001b[1;33m\u001b[0m\u001b[0m\n\u001b[0;32m    467\u001b[0m         \u001b[1;32melse\u001b[0m\u001b[1;33m:\u001b[0m\u001b[1;33m\u001b[0m\u001b[1;33m\u001b[0m\u001b[0m\n",
      "\u001b[1;32m~\\anaconda3\\lib\\site-packages\\pandas\\core\\dtypes\\cast.py\u001b[0m in \u001b[0;36mconstruct_1d_arraylike_from_scalar\u001b[1;34m(value, length, dtype)\u001b[0m\n\u001b[0;32m   1459\u001b[0m                 \u001b[0mvalue\u001b[0m \u001b[1;33m=\u001b[0m \u001b[0mensure_str\u001b[0m\u001b[1;33m(\u001b[0m\u001b[0mvalue\u001b[0m\u001b[1;33m)\u001b[0m\u001b[1;33m\u001b[0m\u001b[1;33m\u001b[0m\u001b[0m\n\u001b[0;32m   1460\u001b[0m \u001b[1;33m\u001b[0m\u001b[0m\n\u001b[1;32m-> 1461\u001b[1;33m         \u001b[0msubarr\u001b[0m \u001b[1;33m=\u001b[0m \u001b[0mnp\u001b[0m\u001b[1;33m.\u001b[0m\u001b[0mempty\u001b[0m\u001b[1;33m(\u001b[0m\u001b[0mlength\u001b[0m\u001b[1;33m,\u001b[0m \u001b[0mdtype\u001b[0m\u001b[1;33m=\u001b[0m\u001b[0mdtype\u001b[0m\u001b[1;33m)\u001b[0m\u001b[1;33m\u001b[0m\u001b[1;33m\u001b[0m\u001b[0m\n\u001b[0m\u001b[0;32m   1462\u001b[0m         \u001b[0msubarr\u001b[0m\u001b[1;33m.\u001b[0m\u001b[0mfill\u001b[0m\u001b[1;33m(\u001b[0m\u001b[0mvalue\u001b[0m\u001b[1;33m)\u001b[0m\u001b[1;33m\u001b[0m\u001b[1;33m\u001b[0m\u001b[0m\n\u001b[0;32m   1463\u001b[0m \u001b[1;33m\u001b[0m\u001b[0m\n",
      "\u001b[1;31mTypeError\u001b[0m: Cannot interpret '<attribute 'dtype' of 'numpy.generic' objects>' as a data type"
     ]
    }
   ],
   "source": [
    "data_explore.info()"
   ]
  },
  {
   "cell_type": "markdown",
   "metadata": {
    "id": "S7cjxGQIKCzD",
    "papermill": {
     "duration": 0.051153,
     "end_time": "2020-10-15T16:08:18.564995",
     "exception": false,
     "start_time": "2020-10-15T16:08:18.513842",
     "status": "completed"
    },
    "tags": []
   },
   "source": [
    "There is no column with null values."
   ]
  },
  {
   "cell_type": "code",
   "execution_count": null,
   "metadata": {
    "colab": {
     "base_uri": "https://localhost:8080/"
    },
    "execution": {
     "iopub.execute_input": "2020-10-15T16:08:18.673017Z",
     "iopub.status.busy": "2020-10-15T16:08:18.671897Z",
     "iopub.status.idle": "2020-10-15T16:08:18.688578Z",
     "shell.execute_reply": "2020-10-15T16:08:18.687779Z"
    },
    "id": "BsIp1C1BKCzD",
    "outputId": "2b5ec14d-16a1-4420-ce83-f684857980bc",
    "papermill": {
     "duration": 0.07767,
     "end_time": "2020-10-15T16:08:18.688714",
     "exception": false,
     "start_time": "2020-10-15T16:08:18.611044",
     "status": "completed"
    },
    "tags": []
   },
   "outputs": [],
   "source": [
    "data_explore.nunique()"
   ]
  },
  {
   "cell_type": "markdown",
   "metadata": {
    "id": "2focihuqKCzD",
    "papermill": {
     "duration": 0.0458,
     "end_time": "2020-10-15T16:08:18.781154",
     "exception": false,
     "start_time": "2020-10-15T16:08:18.735354",
     "status": "completed"
    },
    "tags": []
   },
   "source": [
    "- In dataset description it is mention that an employee can have only one manager at a time, then we can consider that the dataset contains information of maximum 4243 employees.\n",
    "- There are same number of unique values for ROLE_TITLE and ROLE_CODE. There is 1-to-1 mapping between these columns. So for our problem only one feature is sufficent."
   ]
  },
  {
   "cell_type": "code",
   "execution_count": null,
   "metadata": {
    "colab": {
     "base_uri": "https://localhost:8080/",
     "height": 296
    },
    "execution": {
     "iopub.execute_input": "2020-10-15T16:08:18.885058Z",
     "iopub.status.busy": "2020-10-15T16:08:18.884258Z",
     "iopub.status.idle": "2020-10-15T16:08:19.059166Z",
     "shell.execute_reply": "2020-10-15T16:08:19.058398Z"
    },
    "id": "6e8uI3LoKCzE",
    "outputId": "2311aed7-18b1-4839-82f8-5a89b38051ae",
    "papermill": {
     "duration": 0.227781,
     "end_time": "2020-10-15T16:08:19.059318",
     "exception": false,
     "start_time": "2020-10-15T16:08:18.831537",
     "status": "completed"
    },
    "tags": []
   },
   "outputs": [],
   "source": [
    "sns.countplot(x='ACTION', data=data_explore)"
   ]
  },
  {
   "cell_type": "markdown",
   "metadata": {
    "id": "LU_fhVY3KCzE",
    "papermill": {
     "duration": 0.048468,
     "end_time": "2020-10-15T16:08:19.155982",
     "exception": false,
     "start_time": "2020-10-15T16:08:19.107514",
     "status": "completed"
    },
    "tags": []
   },
   "source": [
    "- We can see that we have imbalance dataset. There are very less records of not granting the access."
   ]
  },
  {
   "cell_type": "markdown",
   "metadata": {
    "id": "T0pHblwhKCzE",
    "papermill": {
     "duration": 0.047035,
     "end_time": "2020-10-15T16:08:19.252507",
     "exception": false,
     "start_time": "2020-10-15T16:08:19.205472",
     "status": "completed"
    },
    "tags": []
   },
   "source": [
    "- Lets find out top 15 Resources, Role department, Role family, Role codes for which most access is requested."
   ]
  },
  {
   "cell_type": "code",
   "execution_count": null,
   "metadata": {
    "colab": {
     "base_uri": "https://localhost:8080/",
     "height": 80
    },
    "execution": {
     "iopub.execute_input": "2020-10-15T16:08:19.357927Z",
     "iopub.status.busy": "2020-10-15T16:08:19.356856Z",
     "iopub.status.idle": "2020-10-15T16:08:19.376182Z",
     "shell.execute_reply": "2020-10-15T16:08:19.375355Z"
    },
    "id": "kW3X_-8DKCzE",
    "outputId": "5a5e8038-061e-42b9-8e25-2dcbcd4dbf3b",
    "papermill": {
     "duration": 0.07575,
     "end_time": "2020-10-15T16:08:19.376315",
     "exception": false,
     "start_time": "2020-10-15T16:08:19.300565",
     "status": "completed"
    },
    "tags": []
   },
   "outputs": [],
   "source": [
    "data_explore_resources = data_explore[['RESOURCE', \"ACTION\"]].groupby(by='RESOURCE').count()\n",
    "data_explore_resources.sort_values('ACTION', ascending=False).head(n=15).transpose()"
   ]
  },
  {
   "cell_type": "code",
   "execution_count": null,
   "metadata": {
    "colab": {
     "base_uri": "https://localhost:8080/",
     "height": 80
    },
    "execution": {
     "iopub.execute_input": "2020-10-15T16:08:19.483038Z",
     "iopub.status.busy": "2020-10-15T16:08:19.481908Z",
     "iopub.status.idle": "2020-10-15T16:08:19.498392Z",
     "shell.execute_reply": "2020-10-15T16:08:19.497728Z"
    },
    "id": "8uUZslajKCzE",
    "outputId": "0fcfc36d-fc7d-44ca-a4f7-a967227136ec",
    "papermill": {
     "duration": 0.073718,
     "end_time": "2020-10-15T16:08:19.498518",
     "exception": false,
     "start_time": "2020-10-15T16:08:19.424800",
     "status": "completed"
    },
    "tags": []
   },
   "outputs": [],
   "source": [
    "data_explore_role_dept = data_explore[['ROLE_DEPTNAME', \"ACTION\"]].groupby(by='ROLE_DEPTNAME').count()\n",
    "data_explore_role_dept.sort_values('ACTION', ascending=False).head(n=15).transpose()"
   ]
  },
  {
   "cell_type": "code",
   "execution_count": null,
   "metadata": {
    "colab": {
     "base_uri": "https://localhost:8080/",
     "height": 80
    },
    "execution": {
     "iopub.execute_input": "2020-10-15T16:08:19.606351Z",
     "iopub.status.busy": "2020-10-15T16:08:19.605555Z",
     "iopub.status.idle": "2020-10-15T16:08:19.622097Z",
     "shell.execute_reply": "2020-10-15T16:08:19.621236Z"
    },
    "id": "dJgRk61aKCzF",
    "outputId": "eb3b1d99-e708-4a07-ddff-5b0d67fc3601",
    "papermill": {
     "duration": 0.074037,
     "end_time": "2020-10-15T16:08:19.622232",
     "exception": false,
     "start_time": "2020-10-15T16:08:19.548195",
     "status": "completed"
    },
    "tags": []
   },
   "outputs": [],
   "source": [
    "data_explore_role_codes = data_explore[['ROLE_CODE', \"ACTION\"]].groupby(by='ROLE_CODE').count()\n",
    "data_explore_role_codes.sort_values('ACTION', ascending=False).head(n=15).transpose()"
   ]
  },
  {
   "cell_type": "code",
   "execution_count": null,
   "metadata": {
    "colab": {
     "base_uri": "https://localhost:8080/",
     "height": 80
    },
    "execution": {
     "iopub.execute_input": "2020-10-15T16:08:19.745722Z",
     "iopub.status.busy": "2020-10-15T16:08:19.744459Z",
     "iopub.status.idle": "2020-10-15T16:08:19.769136Z",
     "shell.execute_reply": "2020-10-15T16:08:19.770234Z"
    },
    "id": "mCsilWGfKCzF",
    "outputId": "19e70689-43f6-4aa3-a993-f093be552d32",
    "papermill": {
     "duration": 0.09194,
     "end_time": "2020-10-15T16:08:19.770470",
     "exception": false,
     "start_time": "2020-10-15T16:08:19.678530",
     "status": "completed"
    },
    "tags": []
   },
   "outputs": [],
   "source": [
    "data_explore_role_family = data_explore[['ROLE_FAMILY', \"ACTION\"]].groupby(by='ROLE_FAMILY').count()\n",
    "data_explore_role_family.sort_values('ACTION', ascending=False).head(n=15).transpose()"
   ]
  },
  {
   "cell_type": "code",
   "execution_count": 11,
   "metadata": {
    "colab": {
     "base_uri": "https://localhost:8080/",
     "height": 513
    },
    "execution": {
     "iopub.execute_input": "2020-10-15T16:08:19.888530Z",
     "iopub.status.busy": "2020-10-15T16:08:19.887676Z",
     "iopub.status.idle": "2020-10-15T16:08:20.513889Z",
     "shell.execute_reply": "2020-10-15T16:08:20.513220Z"
    },
    "id": "dP__JrYEKCzF",
    "outputId": "dd9b01ec-af65-442b-f37b-9fcf33cce361",
    "papermill": {
     "duration": 0.684604,
     "end_time": "2020-10-15T16:08:20.514017",
     "exception": false,
     "start_time": "2020-10-15T16:08:19.829413",
     "status": "completed"
    },
    "tags": []
   },
   "outputs": [
    {
     "data": {
      "image/png": "[encoded data removed]",
      "text/plain": [
       "<Figure size 864x504 with 1 Axes>"
      ]
     },
     "metadata": {
      "needs_background": "light",
      "tags": []
     },
     "output_type": "display_data"
    }
   ],
   "source": [
    "plt.figure(figsize=(12, 7))\n",
    "corr_matrix = data_explore.corr()\n",
    "sns.heatmap(corr_matrix, mask=np.zeros_like(corr_matrix, dtype=np.bool), square=True, annot=True, cbar=False)\n",
    "plt.tight_layout()"
   ]
  },
  {
   "cell_type": "code",
   "execution_count": 3,
   "metadata": {
    "colab": {
     "base_uri": "https://localhost:8080/"
    },
    "execution": {
     "iopub.execute_input": "2020-10-15T16:08:20.630370Z",
     "iopub.status.busy": "2020-10-15T16:08:20.629477Z",
     "iopub.status.idle": "2020-10-15T16:08:20.634298Z",
     "shell.execute_reply": "2020-10-15T16:08:20.633513Z"
    },
    "id": "bc0AITWSKCzF",
    "outputId": "be094afb-44ac-4404-85c0-2c0a3064c49f",
    "papermill": {
     "duration": 0.066424,
     "end_time": "2020-10-15T16:08:20.634454",
     "exception": false,
     "start_time": "2020-10-15T16:08:20.568030",
     "status": "completed"
    },
    "tags": []
   },
   "outputs": [
    {
     "ename": "NameError",
     "evalue": "name 'corr_matrix' is not defined",
     "output_type": "error",
     "traceback": [
      "\u001b[1;31m---------------------------------------------------------------------------\u001b[0m",
      "\u001b[1;31mNameError\u001b[0m                                 Traceback (most recent call last)",
      "\u001b[1;32m<ipython-input-3-8e3d49e343b5>\u001b[0m in \u001b[0;36m<module>\u001b[1;34m\u001b[0m\n\u001b[1;32m----> 1\u001b[1;33m \u001b[0mcorr_matrix\u001b[0m\u001b[1;33m[\u001b[0m\u001b[1;34m'ACTION'\u001b[0m\u001b[1;33m]\u001b[0m\u001b[1;33m.\u001b[0m\u001b[0msort_values\u001b[0m\u001b[1;33m(\u001b[0m\u001b[0mascending\u001b[0m\u001b[1;33m=\u001b[0m\u001b[1;32mFalse\u001b[0m\u001b[1;33m)\u001b[0m\u001b[1;33m\u001b[0m\u001b[1;33m\u001b[0m\u001b[0m\n\u001b[0m",
      "\u001b[1;31mNameError\u001b[0m: name 'corr_matrix' is not defined"
     ]
    }
   ],
   "source": [
    "corr_matrix['ACTION'].sort_values(ascending=False)"
   ]
  },
  {
   "cell_type": "markdown",
   "metadata": {
    "id": "0lIxxDAwKCzG",
    "papermill": {
     "duration": 0.060208,
     "end_time": "2020-10-15T16:08:20.758519",
     "exception": false,
     "start_time": "2020-10-15T16:08:20.698311",
     "status": "completed"
    },
    "tags": []
   },
   "source": [
    "- There is no attribute to which target variable is strongly correlated."
   ]
  },
  {
   "cell_type": "markdown",
   "metadata": {
    "id": "iVBCGaf-KCzG",
    "papermill": {
     "duration": 0.054109,
     "end_time": "2020-10-15T16:08:20.866855",
     "exception": false,
     "start_time": "2020-10-15T16:08:20.812746",
     "status": "completed"
    },
    "tags": []
   },
   "source": [
    "## Step 3: Data Preprocessing"
   ]
  },
  {
   "cell_type": "code",
   "execution_count": 8,
   "metadata": {
    "execution": {
     "iopub.execute_input": "2020-10-15T16:08:20.982290Z",
     "iopub.status.busy": "2020-10-15T16:08:20.981324Z",
     "iopub.status.idle": "2020-10-15T16:08:21.332009Z",
     "shell.execute_reply": "2020-10-15T16:08:21.331208Z"
    },
    "id": "uq6QaoXCKCzG",
    "papermill": {
     "duration": 0.411914,
     "end_time": "2020-10-15T16:08:21.332141",
     "exception": false,
     "start_time": "2020-10-15T16:08:20.920227",
     "status": "completed"
    },
    "tags": []
   },
   "outputs": [],
   "source": [
    "from sklearn.impute import SimpleImputer\n",
    "from sklearn.preprocessing import OrdinalEncoder, OneHotEncoder\n",
    "from sklearn.pipeline import Pipeline\n",
    "from sklearn.compose import ColumnTransformer"
   ]
  },
  {
   "cell_type": "code",
   "execution_count": 9,
   "metadata": {
    "colab": {
     "base_uri": "https://localhost:8080/"
    },
    "execution": {
     "iopub.execute_input": "2020-10-15T16:08:21.454139Z",
     "iopub.status.busy": "2020-10-15T16:08:21.453232Z",
     "iopub.status.idle": "2020-10-15T16:08:21.463067Z",
     "shell.execute_reply": "2020-10-15T16:08:21.462402Z"
    },
    "id": "TajjPppYKCzG",
    "outputId": "3109fdaa-5b01-4f3e-9ac0-8aa8f162f54e",
    "papermill": {
     "duration": 0.074693,
     "end_time": "2020-10-15T16:08:21.463196",
     "exception": false,
     "start_time": "2020-10-15T16:08:21.388503",
     "status": "completed"
    },
    "tags": []
   },
   "outputs": [
    {
     "ename": "NameError",
     "evalue": "name 'data' is not defined",
     "output_type": "error",
     "traceback": [
      "\u001b[1;31m---------------------------------------------------------------------------\u001b[0m",
      "\u001b[1;31mNameError\u001b[0m                                 Traceback (most recent call last)",
      "\u001b[1;32m<ipython-input-9-2854bbc49836>\u001b[0m in \u001b[0;36m<module>\u001b[1;34m\u001b[0m\n\u001b[1;32m----> 1\u001b[1;33m \u001b[0mX\u001b[0m \u001b[1;33m=\u001b[0m \u001b[0mdata\u001b[0m\u001b[1;33m.\u001b[0m\u001b[0mdrop\u001b[0m\u001b[1;33m(\u001b[0m\u001b[0mcolumns\u001b[0m\u001b[1;33m=\u001b[0m\u001b[1;33m[\u001b[0m\u001b[1;34m'ACTION'\u001b[0m\u001b[1;33m]\u001b[0m\u001b[1;33m,\u001b[0m \u001b[0maxis\u001b[0m\u001b[1;33m=\u001b[0m\u001b[1;36m1\u001b[0m\u001b[1;33m)\u001b[0m\u001b[1;33m.\u001b[0m\u001b[0mcopy\u001b[0m\u001b[1;33m(\u001b[0m\u001b[1;33m)\u001b[0m\u001b[1;33m\u001b[0m\u001b[1;33m\u001b[0m\u001b[0m\n\u001b[0m\u001b[0;32m      2\u001b[0m \u001b[0my\u001b[0m \u001b[1;33m=\u001b[0m \u001b[0mdata\u001b[0m\u001b[1;33m[\u001b[0m\u001b[1;34m'ACTION'\u001b[0m\u001b[1;33m]\u001b[0m\u001b[1;33m.\u001b[0m\u001b[0mcopy\u001b[0m\u001b[1;33m(\u001b[0m\u001b[1;33m)\u001b[0m\u001b[1;33m\u001b[0m\u001b[1;33m\u001b[0m\u001b[0m\n\u001b[0;32m      3\u001b[0m \u001b[0mX\u001b[0m\u001b[1;33m.\u001b[0m\u001b[0mshape\u001b[0m\u001b[1;33m,\u001b[0m \u001b[0my\u001b[0m\u001b[1;33m.\u001b[0m\u001b[0mshape\u001b[0m\u001b[1;33m\u001b[0m\u001b[1;33m\u001b[0m\u001b[0m\n",
      "\u001b[1;31mNameError\u001b[0m: name 'data' is not defined"
     ]
    }
   ],
   "source": [
    "X = data.drop(columns=['ACTION'], axis=1).copy()\n",
    "y = data['ACTION'].copy()\n",
    "X.shape, y.shape"
   ]
  },
  {
   "cell_type": "code",
   "execution_count": 10,
   "metadata": {
    "colab": {
     "base_uri": "https://localhost:8080/"
    },
    "execution": {
     "iopub.execute_input": "2020-10-15T16:08:21.580097Z",
     "iopub.status.busy": "2020-10-15T16:08:21.578793Z",
     "iopub.status.idle": "2020-10-15T16:08:21.583477Z",
     "shell.execute_reply": "2020-10-15T16:08:21.582836Z"
    },
    "id": "cF7wNcLjKCzG",
    "outputId": "30451f35-b49f-4883-c8f8-77c739470747",
    "papermill": {
     "duration": 0.066358,
     "end_time": "2020-10-15T16:08:21.583608",
     "exception": false,
     "start_time": "2020-10-15T16:08:21.517250",
     "status": "completed"
    },
    "tags": []
   },
   "outputs": [
    {
     "ename": "NameError",
     "evalue": "name 'X' is not defined",
     "output_type": "error",
     "traceback": [
      "\u001b[1;31m---------------------------------------------------------------------------\u001b[0m",
      "\u001b[1;31mNameError\u001b[0m                                 Traceback (most recent call last)",
      "\u001b[1;32m<ipython-input-10-28c7d2161775>\u001b[0m in \u001b[0;36m<module>\u001b[1;34m\u001b[0m\n\u001b[1;32m----> 1\u001b[1;33m \u001b[0mcat_attrs\u001b[0m \u001b[1;33m=\u001b[0m \u001b[0mlist\u001b[0m\u001b[1;33m(\u001b[0m\u001b[0mX\u001b[0m\u001b[1;33m.\u001b[0m\u001b[0mcolumns\u001b[0m\u001b[1;33m)\u001b[0m\u001b[1;33m\u001b[0m\u001b[1;33m\u001b[0m\u001b[0m\n\u001b[0m\u001b[0;32m      2\u001b[0m \u001b[0mcat_attrs\u001b[0m\u001b[1;33m\u001b[0m\u001b[1;33m\u001b[0m\u001b[0m\n",
      "\u001b[1;31mNameError\u001b[0m: name 'X' is not defined"
     ]
    }
   ],
   "source": [
    "cat_attrs = list(X.columns)\n",
    "cat_attrs"
   ]
  },
  {
   "cell_type": "code",
   "execution_count": null,
   "metadata": {},
   "outputs": [],
   "source": [
    "## Creating a MODEL and splitting the dataset into Train and Test data"
   ]
  },
  {
   "cell_type": "code",
   "execution_count": null,
   "metadata": {
    "colab": {
     "base_uri": "https://localhost:8080/"
    },
    "execution": {
     "iopub.execute_input": "2020-10-15T16:08:21.709492Z",
     "iopub.status.busy": "2020-10-15T16:08:21.708662Z",
     "iopub.status.idle": "2020-10-15T16:08:21.756065Z",
     "shell.execute_reply": "2020-10-15T16:08:21.755308Z"
    },
    "id": "oQvgs_ymKCzH",
    "outputId": "96e9577e-6b72-4e21-caa8-c1e1ef6ea430",
    "papermill": {
     "duration": 0.117454,
     "end_time": "2020-10-15T16:08:21.756198",
     "exception": false,
     "start_time": "2020-10-15T16:08:21.638744",
     "status": "completed"
    },
    "tags": []
   },
   "outputs": [],
   "source": [
    "from sklearn.model_selection import StratifiedShuffleSplit\n",
    "\n",
    "split = StratifiedShuffleSplit(n_splits=1, test_size=0.2, random_state=42)\n",
    "\n",
    "for train_index, test_index in split.split(X, y):\n",
    "    strat_train_set = data.iloc[train_index]\n",
    "    strat_test_set = data.iloc[test_index]\n",
    "\n",
    "X_train = strat_train_set.drop('ACTION', axis=1)\n",
    "y_train = strat_train_set['ACTION'].copy()\n",
    "X_test = strat_test_set.drop('ACTION', axis=1)\n",
    "y_test = strat_test_set['ACTION'].copy()\n",
    "X_train.shape, X_test.shape"
   ]
  },
  {
   "cell_type": "code",
   "execution_count": 17,
   "metadata": {
    "colab": {
     "base_uri": "https://localhost:8080/"
    },
    "execution": {
     "iopub.execute_input": "2020-10-15T16:08:21.887013Z",
     "iopub.status.busy": "2020-10-15T16:08:21.886124Z",
     "iopub.status.idle": "2020-10-15T16:08:21.989771Z",
     "shell.execute_reply": "2020-10-15T16:08:21.989065Z"
    },
    "id": "pHX3KkbAKCzH",
    "outputId": "9faf49d9-00b4-40d7-f7fe-8e21bb013488",
    "papermill": {
     "duration": 0.175769,
     "end_time": "2020-10-15T16:08:21.989899",
     "exception": false,
     "start_time": "2020-10-15T16:08:21.814130",
     "status": "completed"
    },
    "tags": []
   },
   "outputs": [
    {
     "data": {
      "text/plain": [
       "((26215, 14410), (6554, 14410))"
      ]
     },
     "execution_count": 17,
     "metadata": {
      "tags": []
     },
     "output_type": "execute_result"
    }
   ],
   "source": [
    "cat_pipeline = Pipeline([('imputer', SimpleImputer(strategy='most_frequent')),\n",
    "                         ('cat_enc', OneHotEncoder(handle_unknown='ignore'))])\n",
    "\n",
    "pre_process = ColumnTransformer([('cat_process', cat_pipeline, cat_attrs)], remainder='passthrough')\n",
    "\n",
    "X_train_transformed = pre_process.fit_transform(X_train)\n",
    "X_test_transformed = pre_process.transform(X_test)\n",
    "X_train_transformed.shape, X_test_transformed.shape"
   ]
  },
  {
   "cell_type": "markdown",
   "metadata": {
    "id": "w_6WQVXnKCzH",
    "papermill": {
     "duration": 0.056567,
     "end_time": "2020-10-15T16:08:22.105733",
     "exception": false,
     "start_time": "2020-10-15T16:08:22.049166",
     "status": "completed"
    },
    "tags": []
   },
   "source": [
    "- Since I will be using CatBoost Classifier. For CatBoost model, there is no need of encoding categorical model. Hence I will be creating a separate preprocessing pipeline for CatBoost model."
   ]
  },
  {
   "cell_type": "code",
   "execution_count": 18,
   "metadata": {
    "colab": {
     "base_uri": "https://localhost:8080/"
    },
    "execution": {
     "iopub.execute_input": "2020-10-15T16:08:22.231547Z",
     "iopub.status.busy": "2020-10-15T16:08:22.230453Z",
     "iopub.status.idle": "2020-10-15T16:08:22.262458Z",
     "shell.execute_reply": "2020-10-15T16:08:22.261775Z"
    },
    "id": "IXEKpjFQKCzH",
    "outputId": "77828837-a3cf-44cd-c031-4e3bf96dd40f",
    "papermill": {
     "duration": 0.100032,
     "end_time": "2020-10-15T16:08:22.262592",
     "exception": false,
     "start_time": "2020-10-15T16:08:22.162560",
     "status": "completed"
    },
    "tags": []
   },
   "outputs": [
    {
     "data": {
      "text/plain": [
       "((26215, 9), (6554, 9))"
      ]
     },
     "execution_count": 18,
     "metadata": {
      "tags": []
     },
     "output_type": "execute_result"
    }
   ],
   "source": [
    "cat_boost_pre_process = ColumnTransformer([('imputer', SimpleImputer(strategy='most_frequent'), cat_attrs)], remainder='passthrough')\n",
    "\n",
    "X_cb_train_transformed = cat_boost_pre_process.fit_transform(X_train)\n",
    "X_cb_test_transformed = cat_boost_pre_process.transform(X_test)\n",
    "X_cb_train_transformed.shape, X_cb_test_transformed.shape"
   ]
  },
  {
   "cell_type": "code",
   "execution_count": 19,
   "metadata": {
    "colab": {
     "base_uri": "https://localhost:8080/"
    },
    "execution": {
     "iopub.execute_input": "2020-10-15T16:08:22.413099Z",
     "iopub.status.busy": "2020-10-15T16:08:22.412209Z",
     "iopub.status.idle": "2020-10-15T16:08:22.436604Z",
     "shell.execute_reply": "2020-10-15T16:08:22.435864Z"
    },
    "id": "7XucpO7kKCzH",
    "outputId": "725dc266-82ca-4910-9de0-4c9f6980e96a",
    "papermill": {
     "duration": 0.108777,
     "end_time": "2020-10-15T16:08:22.436774",
     "exception": false,
     "start_time": "2020-10-15T16:08:22.327997",
     "status": "completed"
    },
    "tags": []
   },
   "outputs": [
    {
     "data": {
      "text/plain": [
       "14410"
      ]
     },
     "execution_count": 19,
     "metadata": {
      "tags": []
     },
     "output_type": "execute_result"
    }
   ],
   "source": [
    "feature_columns = list(pre_process.transformers_[0][1]['cat_enc'].get_feature_names(cat_attrs))\n",
    "len(feature_columns)"
   ]
  },
  {
   "cell_type": "markdown",
   "metadata": {
    "id": "_zVmtO9lKCzI",
    "papermill": {
     "duration": 0.063239,
     "end_time": "2020-10-15T16:08:22.561166",
     "exception": false,
     "start_time": "2020-10-15T16:08:22.497927",
     "status": "completed"
    },
    "tags": []
   },
   "source": [
    "## Step 4: Modelling"
   ]
  },
  {
   "cell_type": "markdown",
   "metadata": {
    "id": "Qmoe6ZzSKCzI",
    "papermill": {
     "duration": 0.062076,
     "end_time": "2020-10-15T16:08:22.686030",
     "exception": false,
     "start_time": "2020-10-15T16:08:22.623954",
     "status": "completed"
    },
    "tags": []
   },
   "source": [
    "- Evaluation metric for this competition is ROC AUC Score.\n",
    "- Since we have imbalance dataset, I will use Matthews correlation coefficient (MCC) as another evaluation metric. \n",
    "- Value of MCC is lies between -1 to +1. A coefficient of +1 represents a perfect prediction, 0 an average random prediction and -1 an inverse prediction.\n",
    "    - ${MCC} = \\frac{(TP + TN) * (FP + FN)}{\\sqrt{( (TP +FP) * (TP + FN) * (TN + FP) * (TN + FN))}}$\n",
    "    \n",
    "- MCC value will be high only if model has high accuracy on predictions of negative data instances as well as of positive data instances.\n",
    "- I will be selecting the best model with highest ROC AUC Score."
   ]
  },
  {
   "cell_type": "code",
   "execution_count": 20,
   "metadata": {
    "execution": {
     "iopub.execute_input": "2020-10-15T16:08:22.828098Z",
     "iopub.status.busy": "2020-10-15T16:08:22.827276Z",
     "iopub.status.idle": "2020-10-15T16:08:22.831325Z",
     "shell.execute_reply": "2020-10-15T16:08:22.830571Z"
    },
    "id": "o5xnBBC9KCzI",
    "papermill": {
     "duration": 0.068427,
     "end_time": "2020-10-15T16:08:22.831518",
     "exception": false,
     "start_time": "2020-10-15T16:08:22.763091",
     "status": "completed"
    },
    "tags": []
   },
   "outputs": [],
   "source": [
    "from sklearn.model_selection import KFold, cross_val_score\n",
    "\n",
    "kf = KFold(n_splits=5, shuffle=True, random_state=42)"
   ]
  },
  {
   "cell_type": "code",
   "execution_count": 21,
   "metadata": {
    "execution": {
     "iopub.execute_input": "2020-10-15T16:08:23.063376Z",
     "iopub.status.busy": "2020-10-15T16:08:23.062573Z",
     "iopub.status.idle": "2020-10-15T16:08:23.066395Z",
     "shell.execute_reply": "2020-10-15T16:08:23.065787Z"
    },
    "id": "LnJk96L3KCzI",
    "papermill": {
     "duration": 0.176391,
     "end_time": "2020-10-15T16:08:23.066527",
     "exception": false,
     "start_time": "2020-10-15T16:08:22.890136",
     "status": "completed"
    },
    "tags": []
   },
   "outputs": [],
   "source": [
    "from sklearn.metrics import matthews_corrcoef, make_scorer, roc_auc_score, roc_curve\n",
    "Matthew = make_scorer(matthews_corrcoef)\n",
    "\n",
    "results = []\n",
    "\n",
    "def plot_custom_roc_curve(clf_name, y_true, y_scores):\n",
    "    auc_score = np.round(roc_auc_score(y_true, y_scores), 3)\n",
    "    fpr, tpr, thresholds = roc_curve(y_true, y_scores)\n",
    "    plt.plot(fpr, tpr, linewidth=2, label=clf_name+\" (AUC Score: {})\".format(str(auc_score)))\n",
    "    plt.plot([0, 1], [0, 1], 'k--') # Dashed diagonal\n",
    "    plt.axis([0, 1, 0, 1])\n",
    "    plt.xlabel(\"FPR\", fontsize=16)\n",
    "    plt.ylabel(\"TPR\", fontsize=16)\n",
    "    plt.legend()\n",
    "    \n",
    "    \n",
    "def performance_measures(model, X_tr=X_train_transformed, y_tr=y_train, X_ts=X_test_transformed, y_ts=y_test,\n",
    "                         store_results=True):\n",
    "    train_mcc = cross_val_score(model, X_tr, y_tr, scoring=Matthew, cv=kf, n_jobs=-1)\n",
    "    test_mcc = cross_val_score(model, X_ts, y_ts, scoring=Matthew, cv=kf, n_jobs=-1)\n",
    "    print(\"Mean Train MCC: {}\\nMean Test MCC: {}\".format(train_mcc.mean(), test_mcc.mean()))\n",
    "\n",
    "    \n",
    "    train_roc_auc = cross_val_score(model, X_tr, y_tr, scoring='roc_auc', cv=kf, n_jobs=-1)\n",
    "    test_roc_auc = cross_val_score(model, X_ts, y_ts, scoring='roc_auc', cv=kf, n_jobs=-1)\n",
    "    print(\"Mean Train ROC AUC Score: {}\\nMean Test ROC AUC Score: {}\".format(train_roc_auc.mean(), test_roc_auc.mean()))\n",
    "    \n",
    "    if store_results:\n",
    "        results.append([model.__class__.__name__, np.round(np.mean(train_roc_auc), 3), np.round(np.mean(test_roc_auc), 3), np.round(np.mean(train_mcc), 3), np.round(np.mean(test_mcc), 3)])"
   ]
  },
  {
   "cell_type": "code",
   "execution_count": 22,
   "metadata": {
    "execution": {
     "iopub.execute_input": "2020-10-15T16:08:23.195123Z",
     "iopub.status.busy": "2020-10-15T16:08:23.193982Z",
     "iopub.status.idle": "2020-10-15T16:08:23.197578Z",
     "shell.execute_reply": "2020-10-15T16:08:23.196821Z"
    },
    "id": "7JC24_INKCzI",
    "papermill": {
     "duration": 0.072418,
     "end_time": "2020-10-15T16:08:23.197707",
     "exception": false,
     "start_time": "2020-10-15T16:08:23.125289",
     "status": "completed"
    },
    "tags": []
   },
   "outputs": [],
   "source": [
    "def plot_feature_importance(feature_columns, importance_values, top_n_features=10):\n",
    "    feature_imp = [ col for col in zip(feature_columns, importance_values)]\n",
    "    feature_imp.sort(key=lambda x:x[1], reverse=True)\n",
    "    \n",
    "    if top_n_features:\n",
    "        imp = pd.DataFrame(feature_imp[0:top_n_features], columns=['feature', 'importance'])\n",
    "    else:\n",
    "        imp = pd.DataFrame(feature_imp, columns=['feature', 'importance'])\n",
    "    plt.figure(figsize=(10, 8))\n",
    "    sns.barplot(y='feature', x='importance', data=imp, orient='h')\n",
    "    plt.title('Most Important Features', fontsize=16)\n",
    "    plt.ylabel(\"Feature\", fontsize=16)\n",
    "    plt.xlabel(\"\")\n",
    "    plt.show()"
   ]
  },
  {
   "cell_type": "code",
   "execution_count": 23,
   "metadata": {
    "colab": {
     "base_uri": "https://localhost:8080/"
    },
    "execution": {
     "iopub.execute_input": "2020-10-15T16:08:23.321589Z",
     "iopub.status.busy": "2020-10-15T16:08:23.320768Z",
     "iopub.status.idle": "2020-10-15T16:08:23.602176Z",
     "shell.execute_reply": "2020-10-15T16:08:23.601390Z"
    },
    "id": "ehYcmcchKCzI",
    "outputId": "7745dad1-eff9-4947-dcff-45576df59f1b",
    "papermill": {
     "duration": 0.346194,
     "end_time": "2020-10-15T16:08:23.602325",
     "exception": false,
     "start_time": "2020-10-15T16:08:23.256131",
     "status": "completed"
    },
    "tags": []
   },
   "outputs": [
    {
     "data": {
      "text/plain": [
       "LogisticRegression(C=1, class_weight=None, dual=False, fit_intercept=True,\n",
       "                   intercept_scaling=1, l1_ratio=None, max_iter=1000,\n",
       "                   multi_class='auto', n_jobs=-1, penalty='l2', random_state=42,\n",
       "                   solver='liblinear', tol=0.0001, verbose=0, warm_start=False)"
      ]
     },
     "execution_count": 23,
     "metadata": {
      "tags": []
     },
     "output_type": "execute_result"
    }
   ],
   "source": [
    "from sklearn.linear_model import LogisticRegression\n",
    "\n",
    "logistic_reg = LogisticRegression(solver='liblinear', C=1, penalty='l2', max_iter=1000, random_state=42, n_jobs=-1)\n",
    "logistic_reg.fit(X_train_transformed, y_train)"
   ]
  },
  {
   "cell_type": "code",
   "execution_count": 24,
   "metadata": {
    "colab": {
     "base_uri": "https://localhost:8080/",
     "height": 501
    },
    "execution": {
     "iopub.execute_input": "2020-10-15T16:08:23.747393Z",
     "iopub.status.busy": "2020-10-15T16:08:23.746414Z",
     "iopub.status.idle": "2020-10-15T16:08:24.037361Z",
     "shell.execute_reply": "2020-10-15T16:08:24.037969Z"
    },
    "id": "rvqxSZtiKCzJ",
    "outputId": "7908799a-fe3b-4c4a-f510-dec7ad193592",
    "papermill": {
     "duration": 0.373779,
     "end_time": "2020-10-15T16:08:24.038156",
     "exception": false,
     "start_time": "2020-10-15T16:08:23.664377",
     "status": "completed"
    },
    "tags": []
   },
   "outputs": [
    {
     "data": {
      "image/png": "[encoded data removed]",
      "text/plain": [
       "<Figure size 720x576 with 1 Axes>"
      ]
     },
     "metadata": {
      "needs_background": "light",
      "tags": []
     },
     "output_type": "display_data"
    }
   ],
   "source": [
    "plot_feature_importance(feature_columns, logistic_reg.coef_[0], top_n_features=15)"
   ]
  },
  {
   "cell_type": "code",
   "execution_count": 25,
   "metadata": {
    "colab": {
     "base_uri": "https://localhost:8080/"
    },
    "execution": {
     "iopub.execute_input": "2020-10-15T16:08:24.166153Z",
     "iopub.status.busy": "2020-10-15T16:08:24.165203Z",
     "iopub.status.idle": "2020-10-15T16:08:27.656857Z",
     "shell.execute_reply": "2020-10-15T16:08:27.657570Z"
    },
    "id": "nxaVgJm_KCzJ",
    "outputId": "e988951c-8eea-403a-9187-e1ee9909f1de",
    "papermill": {
     "duration": 3.559479,
     "end_time": "2020-10-15T16:08:27.657751",
     "exception": false,
     "start_time": "2020-10-15T16:08:24.098272",
     "status": "completed"
    },
    "tags": []
   },
   "outputs": [
    {
     "name": "stdout",
     "output_type": "stream",
     "text": [
      "Mean Train MCC: 0.2925811083941934\n",
      "Mean Test MCC: 0.18388556695187624\n",
      "Mean Train ROC AUC Score: 0.8470563332751307\n",
      "Mean Test ROC AUC Score: 0.7517055122467291\n"
     ]
    }
   ],
   "source": [
    "performance_measures(logistic_reg)"
   ]
  },
  {
   "cell_type": "code",
   "execution_count": 26,
   "metadata": {
    "colab": {
     "base_uri": "https://localhost:8080/"
    },
    "execution": {
     "iopub.execute_input": "2020-10-15T16:08:27.787024Z",
     "iopub.status.busy": "2020-10-15T16:08:27.786201Z",
     "iopub.status.idle": "2020-10-15T16:08:30.387017Z",
     "shell.execute_reply": "2020-10-15T16:08:30.387601Z"
    },
    "id": "jTGx9mQzKCzJ",
    "outputId": "e5bd9125-8c24-4d96-8612-37b7ca06c3ef",
    "papermill": {
     "duration": 2.66877,
     "end_time": "2020-10-15T16:08:30.387773",
     "exception": false,
     "start_time": "2020-10-15T16:08:27.719003",
     "status": "completed"
    },
    "tags": []
   },
   "outputs": [
    {
     "data": {
      "text/plain": [
       "RandomForestClassifier(bootstrap=True, ccp_alpha=0.0, class_weight=None,\n",
       "                       criterion='gini', max_depth=16, max_features='auto',\n",
       "                       max_leaf_nodes=None, max_samples=None,\n",
       "                       min_impurity_decrease=0.0, min_impurity_split=None,\n",
       "                       min_samples_leaf=1, min_samples_split=2,\n",
       "                       min_weight_fraction_leaf=0.0, n_estimators=300,\n",
       "                       n_jobs=-1, oob_score=False, random_state=42, verbose=0,\n",
       "                       warm_start=False)"
      ]
     },
     "execution_count": 26,
     "metadata": {
      "tags": []
     },
     "output_type": "execute_result"
    }
   ],
   "source": [
    "from sklearn.ensemble import RandomForestClassifier\n",
    "\n",
    "forest_clf = RandomForestClassifier(n_estimators=300, max_depth=16, random_state=42,n_jobs=-1)\n",
    "forest_clf.fit(X_train_transformed, y_train)"
   ]
  },
  {
   "cell_type": "code",
   "execution_count": 27,
   "metadata": {
    "colab": {
     "base_uri": "https://localhost:8080/",
     "height": 501
    },
    "execution": {
     "iopub.execute_input": "2020-10-15T16:08:30.518839Z",
     "iopub.status.busy": "2020-10-15T16:08:30.517520Z",
     "iopub.status.idle": "2020-10-15T16:08:31.038419Z",
     "shell.execute_reply": "2020-10-15T16:08:31.037634Z"
    },
    "id": "8cHYWvTVKCzJ",
    "outputId": "0b0d4d48-6e15-402f-8e48-77bf5f18fd66",
    "papermill": {
     "duration": 0.588144,
     "end_time": "2020-10-15T16:08:31.038549",
     "exception": false,
     "start_time": "2020-10-15T16:08:30.450405",
     "status": "completed"
    },
    "tags": []
   },
   "outputs": [
    {
     "data": {
      "image/png": "[encoded data removed]",
      "text/plain": [
       "<Figure size 720x576 with 1 Axes>"
      ]
     },
     "metadata": {
      "needs_background": "light",
      "tags": []
     },
     "output_type": "display_data"
    }
   ],
   "source": [
    "plot_feature_importance(feature_columns, forest_clf.feature_importances_, top_n_features=15)"
   ]
  },
  {
   "cell_type": "code",
   "execution_count": 28,
   "metadata": {
    "colab": {
     "base_uri": "https://localhost:8080/"
    },
    "execution": {
     "iopub.execute_input": "2020-10-15T16:08:31.176474Z",
     "iopub.status.busy": "2020-10-15T16:08:31.175692Z",
     "iopub.status.idle": "2020-10-15T16:09:41.083788Z",
     "shell.execute_reply": "2020-10-15T16:09:41.084669Z"
    },
    "id": "rfb2UTsQKCzJ",
    "outputId": "111891e7-cb48-4950-cb29-4ca96b8cbc68",
    "papermill": {
     "duration": 69.983038,
     "end_time": "2020-10-15T16:09:41.084894",
     "exception": false,
     "start_time": "2020-10-15T16:08:31.101856",
     "status": "completed"
    },
    "tags": []
   },
   "outputs": [
    {
     "name": "stdout",
     "output_type": "stream",
     "text": [
      "Mean Train MCC: 0.0\n",
      "Mean Test MCC: 0.0\n",
      "Mean Train ROC AUC Score: 0.8165212108561294\n",
      "Mean Test ROC AUC Score: 0.7437150686782488\n"
     ]
    }
   ],
   "source": [
    "performance_measures(forest_clf)"
   ]
  },
  {
   "cell_type": "code",
   "execution_count": 29,
   "metadata": {
    "colab": {
     "base_uri": "https://localhost:8080/"
    },
    "execution": {
     "iopub.execute_input": "2020-10-15T16:09:41.221193Z",
     "iopub.status.busy": "2020-10-15T16:09:41.220253Z",
     "iopub.status.idle": "2020-10-15T16:10:04.232901Z",
     "shell.execute_reply": "2020-10-15T16:10:04.233658Z"
    },
    "id": "4cr0z4TKKCzK",
    "outputId": "d65bba88-ec44-4142-9a18-40c2033b22cf",
    "papermill": {
     "duration": 23.082833,
     "end_time": "2020-10-15T16:10:04.233832",
     "exception": false,
     "start_time": "2020-10-15T16:09:41.150999",
     "status": "completed"
    },
    "tags": []
   },
   "outputs": [
    {
     "data": {
      "text/plain": [
       "XGBClassifier(base_score=0.5, booster='gbtree', colsample_bylevel=1,\n",
       "              colsample_bynode=1, colsample_bytree=1, gamma=0,\n",
       "              learning_rate=0.1, max_delta_step=0, max_depth=16,\n",
       "              min_child_weight=1, missing=None, n_estimators=300, n_jobs=-1,\n",
       "              nthread=None, objective='binary:logistic', random_state=42,\n",
       "              reg_alpha=0, reg_lambda=1, scale_pos_weight=1, seed=None,\n",
       "              silent=None, subsample=1, verbosity=1)"
      ]
     },
     "execution_count": 29,
     "metadata": {
      "tags": []
     },
     "output_type": "execute_result"
    }
   ],
   "source": [
    "from xgboost import XGBClassifier\n",
    "\n",
    "xgb_clf = XGBClassifier(n_estimators=300, max_depth=16, learning_rate=0.1, random_state=42, n_jobs=-1)\n",
    "xgb_clf.fit(X_train_transformed, y_train)"
   ]
  },
  {
   "cell_type": "code",
   "execution_count": 30,
   "metadata": {
    "colab": {
     "base_uri": "https://localhost:8080/",
     "height": 501
    },
    "execution": {
     "iopub.execute_input": "2020-10-15T16:10:04.368807Z",
     "iopub.status.busy": "2020-10-15T16:10:04.367966Z",
     "iopub.status.idle": "2020-10-15T16:10:04.895797Z",
     "shell.execute_reply": "2020-10-15T16:10:04.895078Z"
    },
    "id": "VkzNEbX2KCzK",
    "outputId": "c89927f9-f23f-46b7-b806-7737f4bc9acc",
    "papermill": {
     "duration": 0.597026,
     "end_time": "2020-10-15T16:10:04.895929",
     "exception": false,
     "start_time": "2020-10-15T16:10:04.298903",
     "status": "completed"
    },
    "tags": []
   },
   "outputs": [
    {
     "data": {
      "image/png": "[encoded data removed]",
      "text/plain": [
       "<Figure size 720x576 with 1 Axes>"
      ]
     },
     "metadata": {
      "needs_background": "light",
      "tags": []
     },
     "output_type": "display_data"
    }
   ],
   "source": [
    "plot_feature_importance(feature_columns, xgb_clf.feature_importances_, top_n_features=15)"
   ]
  },
  {
   "cell_type": "code",
   "execution_count": null,
   "metadata": {
    "colab": {
     "base_uri": "https://localhost:8080/"
    },
    "execution": {
     "iopub.execute_input": "2020-10-15T16:10:05.041710Z",
     "iopub.status.busy": "2020-10-15T16:10:05.040583Z",
     "iopub.status.idle": "2020-10-15T16:13:00.815773Z",
     "shell.execute_reply": "2020-10-15T16:13:00.816631Z"
    },
    "id": "Uml04nYAKCzK",
    "outputId": "591315fe-25e8-411b-bd2f-213471c0076f",
    "papermill": {
     "duration": 175.854276,
     "end_time": "2020-10-15T16:13:00.816846",
     "exception": false,
     "start_time": "2020-10-15T16:10:04.962570",
     "status": "completed"
    },
    "tags": []
   },
   "outputs": [
    {
     "name": "stdout",
     "output_type": "stream",
     "text": [
      "Mean Train MCC: 0.39076287637260154\n",
      "Mean Test MCC: 0.22660323395234597\n"
     ]
    }
   ],
   "source": [
    "performance_measures(xgb_clf)"
   ]
  },
  {
   "cell_type": "code",
   "execution_count": null,
   "metadata": {
    "execution": {
     "iopub.execute_input": "2020-10-15T16:13:00.960791Z",
     "iopub.status.busy": "2020-10-15T16:13:00.959979Z",
     "iopub.status.idle": "2020-10-15T16:13:24.132024Z",
     "shell.execute_reply": "2020-10-15T16:13:24.130542Z"
    },
    "id": "2mAXrMAnKCzK",
    "papermill": {
     "duration": 23.246009,
     "end_time": "2020-10-15T16:13:24.132197",
     "exception": false,
     "start_time": "2020-10-15T16:13:00.886188",
     "status": "completed"
    },
    "tags": []
   },
   "outputs": [],
   "source": [
    "from catboost import CatBoostClassifier\n",
    "\n",
    "catboost_clf = CatBoostClassifier(loss_function='Logloss', iterations=500, depth=6, l2_leaf_reg=1, \n",
    "                                  cat_features=list(range(X_cb_train_transformed.shape[1])), \n",
    "                                  eval_metric='AUC', random_state=42, verbose=0)\n",
    "catboost_clf.fit(X_cb_train_transformed, y_train)"
   ]
  },
  {
   "cell_type": "code",
   "execution_count": null,
   "metadata": {
    "execution": {
     "iopub.execute_input": "2020-10-15T16:13:24.275950Z",
     "iopub.status.busy": "2020-10-15T16:13:24.274764Z",
     "iopub.status.idle": "2020-10-15T16:18:49.859256Z",
     "shell.execute_reply": "2020-10-15T16:18:49.859986Z"
    },
    "id": "atkY1HlQKCzK",
    "papermill": {
     "duration": 325.65987,
     "end_time": "2020-10-15T16:18:49.860153",
     "exception": false,
     "start_time": "2020-10-15T16:13:24.200283",
     "status": "completed"
    },
    "tags": []
   },
   "outputs": [],
   "source": [
    "performance_measures(catboost_clf, X_tr=X_cb_train_transformed, X_ts=X_cb_test_transformed)"
   ]
  },
  {
   "cell_type": "code",
   "execution_count": null,
   "metadata": {
    "execution": {
     "iopub.execute_input": "2020-10-15T16:18:50.007263Z",
     "iopub.status.busy": "2020-10-15T16:18:50.006292Z",
     "iopub.status.idle": "2020-10-15T16:18:50.217503Z",
     "shell.execute_reply": "2020-10-15T16:18:50.218052Z"
    },
    "id": "Sz_0ofmKKCzK",
    "papermill": {
     "duration": 0.289119,
     "end_time": "2020-10-15T16:18:50.218217",
     "exception": false,
     "start_time": "2020-10-15T16:18:49.929098",
     "status": "completed"
    },
    "tags": []
   },
   "outputs": [],
   "source": [
    "plot_feature_importance(feature_columns, catboost_clf.feature_importances_, top_n_features=15)"
   ]
  },
  {
   "cell_type": "code",
   "execution_count": null,
   "metadata": {
    "execution": {
     "iopub.execute_input": "2020-10-15T16:18:50.371463Z",
     "iopub.status.busy": "2020-10-15T16:18:50.370641Z",
     "iopub.status.idle": "2020-10-15T16:18:50.374296Z",
     "shell.execute_reply": "2020-10-15T16:18:50.373644Z"
    },
    "id": "j1x0XAbTKCzL",
    "papermill": {
     "duration": 0.085591,
     "end_time": "2020-10-15T16:18:50.374450",
     "exception": false,
     "start_time": "2020-10-15T16:18:50.288859",
     "status": "completed"
    },
    "tags": []
   },
   "outputs": [],
   "source": [
    "logistic_reg_pipeline = Pipeline([('pre_process', pre_process), ('logistic_reg', logistic_reg)])\n",
    "forest_clf_pipeline = Pipeline([('pre_process', pre_process), ('forest_clf', forest_clf)])\n",
    "xgb_clf_pipeline = Pipeline([('pre_process', pre_process), ('xgb_clf', xgb_clf)])\n",
    "catboost_clf_pipeline = Pipeline([('pre_process', cat_boost_pre_process), ('catboost_clf', catboost_clf)])\n",
    "\n",
    "named_estimators = [('logistic_reg', logistic_reg_pipeline), ('forest_clf', forest_clf_pipeline), \n",
    "                    ('xgb_clf', xgb_clf_pipeline), ('catboost_clf', catboost_clf_pipeline)]"
   ]
  },
  {
   "cell_type": "code",
   "execution_count": null,
   "metadata": {
    "execution": {
     "iopub.execute_input": "2020-10-15T16:18:50.522837Z",
     "iopub.status.busy": "2020-10-15T16:18:50.522010Z",
     "iopub.status.idle": "2020-10-15T16:19:29.968873Z",
     "shell.execute_reply": "2020-10-15T16:19:29.969639Z"
    },
    "id": "mH_lVfd-KCzL",
    "outputId": "94f085ed-14bb-4e56-9467-010185f6420a",
    "papermill": {
     "duration": 39.5247,
     "end_time": "2020-10-15T16:19:29.969820",
     "exception": false,
     "start_time": "2020-10-15T16:18:50.445120",
     "status": "completed"
    },
    "tags": []
   },
   "outputs": [
    {
     "data": {
      "text/plain": [
       "VotingClassifier(estimators=[('logistic_reg',\n",
       "                              Pipeline(steps=[('pre_process',\n",
       "                                               ColumnTransformer(remainder='passthrough',\n",
       "                                                                 transformers=[('cat_process',\n",
       "                                                                                Pipeline(steps=[('imputer',\n",
       "                                                                                                 SimpleImputer(strategy='most_frequent')),\n",
       "                                                                                                ('cat_enc',\n",
       "                                                                                                 OneHotEncoder(handle_unknown='ignore'))]),\n",
       "                                                                                ['RESOURCE',\n",
       "                                                                                 'MGR_ID',\n",
       "                                                                                 'ROLE_ROLLUP_1',\n",
       "                                                                                 'ROLE_ROLLUP_2',\n",
       "                                                                                 'ROLE_DEPTNAME',\n",
       "                                                                                 'ROLE_TITLE',...\n",
       "                              Pipeline(steps=[('pre_process',\n",
       "                                               ColumnTransformer(remainder='passthrough',\n",
       "                                                                 transformers=[('imputer',\n",
       "                                                                                SimpleImputer(strategy='most_frequent'),\n",
       "                                                                                ['RESOURCE',\n",
       "                                                                                 'MGR_ID',\n",
       "                                                                                 'ROLE_ROLLUP_1',\n",
       "                                                                                 'ROLE_ROLLUP_2',\n",
       "                                                                                 'ROLE_DEPTNAME',\n",
       "                                                                                 'ROLE_TITLE',\n",
       "                                                                                 'ROLE_FAMILY_DESC',\n",
       "                                                                                 'ROLE_FAMILY',\n",
       "                                                                                 'ROLE_CODE'])])),\n",
       "                                              ('catboost_clf',\n",
       "                                               <catboost.core.CatBoostClassifier object at 0x7f1cafc86490>)]))],\n",
       "                 n_jobs=-1, voting='soft')"
      ]
     },
     "execution_count": 36,
     "metadata": {
      "tags": []
     },
     "output_type": "execute_result"
    }
   ],
   "source": [
    "from sklearn.ensemble import VotingClassifier\n",
    "\n",
    "voting_reg = VotingClassifier(estimators=named_estimators, voting='soft', n_jobs=-1)\n",
    "voting_reg.fit(X_train, y_train)"
   ]
  },
  {
   "cell_type": "code",
   "execution_count": null,
   "metadata": {
    "execution": {
     "iopub.execute_input": "2020-10-15T16:19:30.120864Z",
     "iopub.status.busy": "2020-10-15T16:19:30.120080Z",
     "iopub.status.idle": "2020-10-15T16:26:58.742807Z",
     "shell.execute_reply": "2020-10-15T16:26:58.743538Z"
    },
    "id": "yjC5lLcfKCzL",
    "outputId": "07ad34ac-3487-42db-d856-78cfe868fd25",
    "papermill": {
     "duration": 448.701263,
     "end_time": "2020-10-15T16:26:58.743735",
     "exception": false,
     "start_time": "2020-10-15T16:19:30.042472",
     "status": "completed"
    },
    "tags": []
   },
   "outputs": [
    {
     "name": "stdout",
     "output_type": "stream",
     "text": [
      "Mean Train MCC: 0.29983537249602854\n",
      "Mean Test MCC: 0.1726751317330924\n",
      "Mean Train ROC AUC Score: 0.8688554833113686\n",
      "Mean Test ROC AUC Score: 0.765211183456112\n"
     ]
    }
   ],
   "source": [
    "performance_measures(voting_reg, X_tr=X_train, X_ts=X_test)"
   ]
  },
  {
   "cell_type": "markdown",
   "metadata": {
    "id": "qjr9S22vKCzL",
    "papermill": {
     "duration": 0.07176,
     "end_time": "2020-10-15T16:26:58.887186",
     "exception": false,
     "start_time": "2020-10-15T16:26:58.815426",
     "status": "completed"
    },
    "tags": []
   },
   "source": [
    "## Step 5: Model Evaluation"
   ]
  },
  {
   "cell_type": "code",
   "execution_count": null,
   "metadata": {
    "execution": {
     "iopub.execute_input": "2020-10-15T16:26:59.052660Z",
     "iopub.status.busy": "2020-10-15T16:26:59.051487Z",
     "iopub.status.idle": "2020-10-15T16:26:59.056832Z",
     "shell.execute_reply": "2020-10-15T16:26:59.056073Z"
    },
    "id": "LiPsl3QgKCzL",
    "outputId": "2b03d84f-2604-4361-b3ce-d3966a547cf6",
    "papermill": {
     "duration": 0.096544,
     "end_time": "2020-10-15T16:26:59.056980",
     "exception": false,
     "start_time": "2020-10-15T16:26:58.960436",
     "status": "completed"
    },
    "tags": []
   },
   "outputs": [
    {
     "data": {
      "text/html": [
       "<div>\n",
       "<style scoped>\n",
       "    .dataframe tbody tr th:only-of-type {\n",
       "        vertical-align: middle;\n",
       "    }\n",
       "\n",
       "    .dataframe tbody tr th {\n",
       "        vertical-align: top;\n",
       "    }\n",
       "\n",
       "    .dataframe thead th {\n",
       "        text-align: right;\n",
       "    }\n",
       "</style>\n",
       "<table border=\"1\" class=\"dataframe\">\n",
       "  <thead>\n",
       "    <tr style=\"text-align: right;\">\n",
       "      <th></th>\n",
       "      <th>Model</th>\n",
       "      <th>CV Train AUC Score</th>\n",
       "      <th>CV Test AUC Score</th>\n",
       "      <th>CV Train MCC</th>\n",
       "      <th>CV Test MCC</th>\n",
       "    </tr>\n",
       "  </thead>\n",
       "  <tbody>\n",
       "    <tr>\n",
       "      <th>0</th>\n",
       "      <td>LogisticRegression</td>\n",
       "      <td>0.847</td>\n",
       "      <td>0.752</td>\n",
       "      <td>0.293</td>\n",
       "      <td>0.184</td>\n",
       "    </tr>\n",
       "    <tr>\n",
       "      <th>1</th>\n",
       "      <td>RandomForestClassifier</td>\n",
       "      <td>0.817</td>\n",
       "      <td>0.744</td>\n",
       "      <td>0.000</td>\n",
       "      <td>0.000</td>\n",
       "    </tr>\n",
       "    <tr>\n",
       "      <th>2</th>\n",
       "      <td>XGBClassifier</td>\n",
       "      <td>0.836</td>\n",
       "      <td>0.725</td>\n",
       "      <td>0.391</td>\n",
       "      <td>0.227</td>\n",
       "    </tr>\n",
       "    <tr>\n",
       "      <th>3</th>\n",
       "      <td>CatBoostClassifier</td>\n",
       "      <td>0.882</td>\n",
       "      <td>0.778</td>\n",
       "      <td>0.490</td>\n",
       "      <td>0.258</td>\n",
       "    </tr>\n",
       "    <tr>\n",
       "      <th>4</th>\n",
       "      <td>VotingClassifier</td>\n",
       "      <td>0.869</td>\n",
       "      <td>0.765</td>\n",
       "      <td>0.300</td>\n",
       "      <td>0.173</td>\n",
       "    </tr>\n",
       "  </tbody>\n",
       "</table>\n",
       "</div>"
      ],
      "text/plain": [
       "                    Model  CV Train AUC Score  CV Test AUC Score  \\\n",
       "0      LogisticRegression               0.847              0.752   \n",
       "1  RandomForestClassifier               0.817              0.744   \n",
       "2           XGBClassifier               0.836              0.725   \n",
       "3      CatBoostClassifier               0.882              0.778   \n",
       "4        VotingClassifier               0.869              0.765   \n",
       "\n",
       "   CV Train MCC  CV Test MCC  \n",
       "0         0.293        0.184  \n",
       "1         0.000        0.000  \n",
       "2         0.391        0.227  \n",
       "3         0.490        0.258  \n",
       "4         0.300        0.173  "
      ]
     },
     "execution_count": 38,
     "metadata": {
      "tags": []
     },
     "output_type": "execute_result"
    }
   ],
   "source": [
    "result_df = pd.DataFrame(results, columns=['Model', 'CV Train AUC Score', 'CV Test AUC Score', 'CV Train MCC', 'CV Test MCC'])\n",
    "result_df"
   ]
  },
  {
   "cell_type": "code",
   "execution_count": null,
   "metadata": {
    "execution": {
     "iopub.execute_input": "2020-10-15T16:26:59.213001Z",
     "iopub.status.busy": "2020-10-15T16:26:59.212016Z",
     "iopub.status.idle": "2020-10-15T16:27:00.352009Z",
     "shell.execute_reply": "2020-10-15T16:27:00.351370Z"
    },
    "id": "kMR-pOd-KCzL",
    "outputId": "e56a11b3-6807-46f2-c0e8-3aa8759daab5",
    "papermill": {
     "duration": 1.221611,
     "end_time": "2020-10-15T16:27:00.352140",
     "exception": false,
     "start_time": "2020-10-15T16:26:59.130529",
     "status": "completed"
    },
    "tags": []
   },
   "outputs": [
    {
     "data": {
      "image/png": "[encoded data removed]",
      "text/plain": [
       "<Figure size 576x360 with 1 Axes>"
      ]
     },
     "metadata": {
      "needs_background": "light",
      "tags": []
     },
     "output_type": "display_data"
    }
   ],
   "source": [
    "plt.figure(figsize=(8, 5))\n",
    "plot_custom_roc_curve('Logistic Regression', y_test, logistic_reg.decision_function(X_test_transformed))\n",
    "plot_custom_roc_curve('Random Forest', y_test, forest_clf.predict_proba(X_test_transformed)[:,1])\n",
    "plot_custom_roc_curve('XGBoost', y_test, xgb_clf.predict_proba(X_test_transformed)[:,1])\n",
    "plot_custom_roc_curve('CatBoost', y_test, catboost_clf.predict_proba(X_cb_test_transformed)[:,1])\n",
    "plot_custom_roc_curve('Soft Voting', y_test, voting_reg.predict_proba(X_test)[:,1])\n",
    "plt.show()"
   ]
  },
  {
   "cell_type": "markdown",
   "metadata": {
    "id": "uukrgKhUKCzM",
    "papermill": {
     "duration": 0.07453,
     "end_time": "2020-10-15T16:27:00.502230",
     "exception": false,
     "start_time": "2020-10-15T16:27:00.427700",
     "status": "completed"
    },
    "tags": []
   },
   "source": [
    "## Step 6: Make submission"
   ]
  },
  {
   "cell_type": "markdown",
   "metadata": {
    "id": "AgV3FBTfKCzM",
    "papermill": {
     "duration": 0.074423,
     "end_time": "2020-10-15T16:27:00.652967",
     "exception": false,
     "start_time": "2020-10-15T16:27:00.578544",
     "status": "completed"
    },
    "tags": []
   },
   "source": [
    "- Since Catboost Classifier has better ROC AUC Score and also good MCC value, I will be selecting Catboost as final model to make predictions on test dataset."
   ]
  },
  {
   "cell_type": "code",
   "execution_count": null,
   "metadata": {
    "execution": {
     "iopub.execute_input": "2020-10-15T16:27:00.812443Z",
     "iopub.status.busy": "2020-10-15T16:27:00.811607Z",
     "iopub.status.idle": "2020-10-15T16:27:23.704274Z",
     "shell.execute_reply": "2020-10-15T16:27:23.703642Z"
    },
    "id": "81Qc713HKCzM",
    "outputId": "d4df9221-d200-474f-8c63-2c2346f3e486",
    "papermill": {
     "duration": 22.977736,
     "end_time": "2020-10-15T16:27:23.704526",
     "exception": false,
     "start_time": "2020-10-15T16:27:00.726790",
     "status": "completed"
    },
    "tags": []
   },
   "outputs": [
    {
     "data": {
      "text/plain": [
       "Pipeline(steps=[('pre_process',\n",
       "                 ColumnTransformer(remainder='passthrough',\n",
       "                                   transformers=[('imputer',\n",
       "                                                  SimpleImputer(strategy='most_frequent'),\n",
       "                                                  ['RESOURCE', 'MGR_ID',\n",
       "                                                   'ROLE_ROLLUP_1',\n",
       "                                                   'ROLE_ROLLUP_2',\n",
       "                                                   'ROLE_DEPTNAME',\n",
       "                                                   'ROLE_TITLE',\n",
       "                                                   'ROLE_FAMILY_DESC',\n",
       "                                                   'ROLE_FAMILY',\n",
       "                                                   'ROLE_CODE'])])),\n",
       "                ('catboost',\n",
       "                 <catboost.core.CatBoostClassifier object at 0x7f1cafc86490>)])"
      ]
     },
     "execution_count": 40,
     "metadata": {
      "tags": []
     },
     "output_type": "execute_result"
    }
   ],
   "source": [
    "final_model = Pipeline([('pre_process', cat_boost_pre_process),\n",
    "                        ('catboost', catboost_clf)])\n",
    "final_model.fit(X_train, y_train)"
   ]
  },
  {
   "cell_type": "code",
   "execution_count": null,
   "metadata": {
    "execution": {
     "iopub.execute_input": "2020-10-15T16:27:23.890725Z",
     "iopub.status.busy": "2020-10-15T16:27:23.889891Z",
     "iopub.status.idle": "2020-10-15T16:27:24.019747Z",
     "shell.execute_reply": "2020-10-15T16:27:24.019112Z"
    },
    "id": "9GOMSArpKCzM",
    "outputId": "7cad6f1c-61c9-4ab9-9eb5-a230cb39d7a2",
    "papermill": {
     "duration": 0.217196,
     "end_time": "2020-10-15T16:27:24.019902",
     "exception": false,
     "start_time": "2020-10-15T16:27:23.802706",
     "status": "completed"
    },
    "tags": []
   },
   "outputs": [
    {
     "data": {
      "text/html": [
       "<div>\n",
       "<style scoped>\n",
       "    .dataframe tbody tr th:only-of-type {\n",
       "        vertical-align: middle;\n",
       "    }\n",
       "\n",
       "    .dataframe tbody tr th {\n",
       "        vertical-align: top;\n",
       "    }\n",
       "\n",
       "    .dataframe thead th {\n",
       "        text-align: right;\n",
       "    }\n",
       "</style>\n",
       "<table border=\"1\" class=\"dataframe\">\n",
       "  <thead>\n",
       "    <tr style=\"text-align: right;\">\n",
       "      <th></th>\n",
       "      <th>id</th>\n",
       "      <th>RESOURCE</th>\n",
       "      <th>MGR_ID</th>\n",
       "      <th>ROLE_ROLLUP_1</th>\n",
       "      <th>ROLE_ROLLUP_2</th>\n",
       "      <th>ROLE_DEPTNAME</th>\n",
       "      <th>ROLE_TITLE</th>\n",
       "      <th>ROLE_FAMILY_DESC</th>\n",
       "      <th>ROLE_FAMILY</th>\n",
       "      <th>ROLE_CODE</th>\n",
       "    </tr>\n",
       "  </thead>\n",
       "  <tbody>\n",
       "    <tr>\n",
       "      <th>0</th>\n",
       "      <td>1</td>\n",
       "      <td>78766</td>\n",
       "      <td>72734</td>\n",
       "      <td>118079</td>\n",
       "      <td>118080</td>\n",
       "      <td>117878</td>\n",
       "      <td>117879</td>\n",
       "      <td>118177</td>\n",
       "      <td>19721</td>\n",
       "      <td>117880</td>\n",
       "    </tr>\n",
       "    <tr>\n",
       "      <th>1</th>\n",
       "      <td>2</td>\n",
       "      <td>40644</td>\n",
       "      <td>4378</td>\n",
       "      <td>117961</td>\n",
       "      <td>118327</td>\n",
       "      <td>118507</td>\n",
       "      <td>118863</td>\n",
       "      <td>122008</td>\n",
       "      <td>118398</td>\n",
       "      <td>118865</td>\n",
       "    </tr>\n",
       "    <tr>\n",
       "      <th>2</th>\n",
       "      <td>3</td>\n",
       "      <td>75443</td>\n",
       "      <td>2395</td>\n",
       "      <td>117961</td>\n",
       "      <td>118300</td>\n",
       "      <td>119488</td>\n",
       "      <td>118172</td>\n",
       "      <td>301534</td>\n",
       "      <td>249618</td>\n",
       "      <td>118175</td>\n",
       "    </tr>\n",
       "    <tr>\n",
       "      <th>3</th>\n",
       "      <td>4</td>\n",
       "      <td>43219</td>\n",
       "      <td>19986</td>\n",
       "      <td>117961</td>\n",
       "      <td>118225</td>\n",
       "      <td>118403</td>\n",
       "      <td>120773</td>\n",
       "      <td>136187</td>\n",
       "      <td>118960</td>\n",
       "      <td>120774</td>\n",
       "    </tr>\n",
       "    <tr>\n",
       "      <th>4</th>\n",
       "      <td>5</td>\n",
       "      <td>42093</td>\n",
       "      <td>50015</td>\n",
       "      <td>117961</td>\n",
       "      <td>118343</td>\n",
       "      <td>119598</td>\n",
       "      <td>118422</td>\n",
       "      <td>300136</td>\n",
       "      <td>118424</td>\n",
       "      <td>118425</td>\n",
       "    </tr>\n",
       "  </tbody>\n",
       "</table>\n",
       "</div>"
      ],
      "text/plain": [
       "   id  RESOURCE  MGR_ID  ROLE_ROLLUP_1  ROLE_ROLLUP_2  ROLE_DEPTNAME  \\\n",
       "0   1     78766   72734         118079         118080         117878   \n",
       "1   2     40644    4378         117961         118327         118507   \n",
       "2   3     75443    2395         117961         118300         119488   \n",
       "3   4     43219   19986         117961         118225         118403   \n",
       "4   5     42093   50015         117961         118343         119598   \n",
       "\n",
       "   ROLE_TITLE  ROLE_FAMILY_DESC  ROLE_FAMILY  ROLE_CODE  \n",
       "0      117879            118177        19721     117880  \n",
       "1      118863            122008       118398     118865  \n",
       "2      118172            301534       249618     118175  \n",
       "3      120773            136187       118960     120774  \n",
       "4      118422            300136       118424     118425  "
      ]
     },
     "execution_count": 41,
     "metadata": {
      "tags": []
     },
     "output_type": "execute_result"
    }
   ],
   "source": [
    "test_data = pd.read_csv('/content/test.csv')\n",
    "test_data.head()"
   ]
  },
  {
   "cell_type": "code",
   "execution_count": null,
   "metadata": {
    "execution": {
     "iopub.execute_input": "2020-10-15T16:27:24.181416Z",
     "iopub.status.busy": "2020-10-15T16:27:24.180595Z",
     "iopub.status.idle": "2020-10-15T16:27:24.183790Z",
     "shell.execute_reply": "2020-10-15T16:27:24.184360Z"
    },
    "id": "yEyxk9dqKCzM",
    "papermill": {
     "duration": 0.088747,
     "end_time": "2020-10-15T16:27:24.184532",
     "exception": false,
     "start_time": "2020-10-15T16:27:24.095785",
     "status": "completed"
    },
    "tags": []
   },
   "outputs": [],
   "source": [
    "output = pd.DataFrame(test_data['id'])\n",
    "test_data = test_data.drop('id', axis=1)"
   ]
  },
  {
   "cell_type": "code",
   "execution_count": null,
   "metadata": {
    "execution": {
     "iopub.execute_input": "2020-10-15T16:27:24.344412Z",
     "iopub.status.busy": "2020-10-15T16:27:24.343277Z",
     "iopub.status.idle": "2020-10-15T16:27:24.356468Z",
     "shell.execute_reply": "2020-10-15T16:27:24.355460Z"
    },
    "id": "JT0_vP3yKCzM",
    "outputId": "900a8d8c-4965-4daa-e877-5041121c7522",
    "papermill": {
     "duration": 0.095687,
     "end_time": "2020-10-15T16:27:24.356649",
     "exception": false,
     "start_time": "2020-10-15T16:27:24.260962",
     "status": "completed"
    },
    "tags": []
   },
   "outputs": [
    {
     "name": "stdout",
     "output_type": "stream",
     "text": [
      "<class 'pandas.core.frame.DataFrame'>\n",
      "RangeIndex: 58921 entries, 0 to 58920\n",
      "Data columns (total 9 columns):\n",
      " #   Column            Non-Null Count  Dtype\n",
      "---  ------            --------------  -----\n",
      " 0   RESOURCE          58921 non-null  int64\n",
      " 1   MGR_ID            58921 non-null  int64\n",
      " 2   ROLE_ROLLUP_1     58921 non-null  int64\n",
      " 3   ROLE_ROLLUP_2     58921 non-null  int64\n",
      " 4   ROLE_DEPTNAME     58921 non-null  int64\n",
      " 5   ROLE_TITLE        58921 non-null  int64\n",
      " 6   ROLE_FAMILY_DESC  58921 non-null  int64\n",
      " 7   ROLE_FAMILY       58921 non-null  int64\n",
      " 8   ROLE_CODE         58921 non-null  int64\n",
      "dtypes: int64(9)\n",
      "memory usage: 4.0 MB\n"
     ]
    }
   ],
   "source": [
    "test_data.info()"
   ]
  },
  {
   "cell_type": "code",
   "execution_count": null,
   "metadata": {
    "execution": {
     "iopub.execute_input": "2020-10-15T16:27:24.522731Z",
     "iopub.status.busy": "2020-10-15T16:27:24.521943Z",
     "iopub.status.idle": "2020-10-15T16:27:24.753866Z",
     "shell.execute_reply": "2020-10-15T16:27:24.753221Z"
    },
    "id": "aoqbSxO3KCzN",
    "papermill": {
     "duration": 0.318571,
     "end_time": "2020-10-15T16:27:24.754000",
     "exception": false,
     "start_time": "2020-10-15T16:27:24.435429",
     "status": "completed"
    },
    "tags": []
   },
   "outputs": [],
   "source": [
    "predictions = final_model.predict(test_data)"
   ]
  },
  {
   "cell_type": "code",
   "execution_count": null,
   "metadata": {
    "execution": {
     "iopub.execute_input": "2020-10-15T16:27:24.913105Z",
     "iopub.status.busy": "2020-10-15T16:27:24.911737Z",
     "iopub.status.idle": "2020-10-15T16:27:24.915852Z",
     "shell.execute_reply": "2020-10-15T16:27:24.916409Z"
    },
    "id": "tUMuIBIEKCzN",
    "papermill": {
     "duration": 0.085726,
     "end_time": "2020-10-15T16:27:24.916593",
     "exception": false,
     "start_time": "2020-10-15T16:27:24.830867",
     "status": "completed"
    },
    "tags": []
   },
   "outputs": [],
   "source": [
    "output['ACTION'] = predictions.copy()"
   ]
  },
  {
   "cell_type": "code",
   "execution_count": null,
   "metadata": {
    "execution": {
     "iopub.execute_input": "2020-10-15T16:27:25.082316Z",
     "iopub.status.busy": "2020-10-15T16:27:25.081307Z",
     "iopub.status.idle": "2020-10-15T16:27:25.086583Z",
     "shell.execute_reply": "2020-10-15T16:27:25.085977Z"
    },
    "id": "-Dfy7dAEKCzN",
    "outputId": "1ec1c8f4-557c-4f99-bb08-4faab954f770",
    "papermill": {
     "duration": 0.091847,
     "end_time": "2020-10-15T16:27:25.086712",
     "exception": false,
     "start_time": "2020-10-15T16:27:24.994865",
     "status": "completed"
    },
    "tags": []
   },
   "outputs": [
    {
     "data": {
      "text/html": [
       "<div>\n",
       "<style scoped>\n",
       "    .dataframe tbody tr th:only-of-type {\n",
       "        vertical-align: middle;\n",
       "    }\n",
       "\n",
       "    .dataframe tbody tr th {\n",
       "        vertical-align: top;\n",
       "    }\n",
       "\n",
       "    .dataframe thead th {\n",
       "        text-align: right;\n",
       "    }\n",
       "</style>\n",
       "<table border=\"1\" class=\"dataframe\">\n",
       "  <thead>\n",
       "    <tr style=\"text-align: right;\">\n",
       "      <th></th>\n",
       "      <th>id</th>\n",
       "      <th>ACTION</th>\n",
       "    </tr>\n",
       "  </thead>\n",
       "  <tbody>\n",
       "    <tr>\n",
       "      <th>0</th>\n",
       "      <td>1</td>\n",
       "      <td>1</td>\n",
       "    </tr>\n",
       "    <tr>\n",
       "      <th>1</th>\n",
       "      <td>2</td>\n",
       "      <td>1</td>\n",
       "    </tr>\n",
       "    <tr>\n",
       "      <th>2</th>\n",
       "      <td>3</td>\n",
       "      <td>1</td>\n",
       "    </tr>\n",
       "    <tr>\n",
       "      <th>3</th>\n",
       "      <td>4</td>\n",
       "      <td>1</td>\n",
       "    </tr>\n",
       "    <tr>\n",
       "      <th>4</th>\n",
       "      <td>5</td>\n",
       "      <td>1</td>\n",
       "    </tr>\n",
       "  </tbody>\n",
       "</table>\n",
       "</div>"
      ],
      "text/plain": [
       "   id  ACTION\n",
       "0   1       1\n",
       "1   2       1\n",
       "2   3       1\n",
       "3   4       1\n",
       "4   5       1"
      ]
     },
     "execution_count": 46,
     "metadata": {
      "tags": []
     },
     "output_type": "execute_result"
    }
   ],
   "source": [
    "output.head()"
   ]
  },
  {
   "cell_type": "code",
   "execution_count": null,
   "metadata": {
    "execution": {
     "iopub.execute_input": "2020-10-15T16:27:25.248988Z",
     "iopub.status.busy": "2020-10-15T16:27:25.248180Z",
     "iopub.status.idle": "2020-10-15T16:27:25.634893Z",
     "shell.execute_reply": "2020-10-15T16:27:25.634149Z"
    },
    "id": "74u9DSXAKCzN",
    "papermill": {
     "duration": 0.470065,
     "end_time": "2020-10-15T16:27:25.635027",
     "exception": false,
     "start_time": "2020-10-15T16:27:25.164962",
     "status": "completed"
    },
    "tags": []
   },
   "outputs": [],
   "source": [
    "output.to_csv(\"./submission.csv\", index=False)"
   ]
  }
 ],
 "metadata": {
  "colab": {
   "name": "predicting-an-employee-s-access-needs (1).ipynb",
   "provenance": []
  },
  "kernelspec": {
   "display_name": "Python 3",
   "language": "python",
   "name": "python3"
  },
  "language_info": {
   "codemirror_mode": {
    "name": "ipython",
    "version": 3
   },
   "file_extension": ".py",
   "mimetype": "text/x-python",
   "name": "python",
   "nbconvert_exporter": "python",
   "pygments_lexer": "ipython3",
   "version": "3.7.6"
  },
  "papermill": {
   "duration": 1154.318387,
   "end_time": "2020-10-15T16:27:25.821888",
   "environment_variables": {},
   "exception": null,
   "input_path": "__notebook__.ipynb",
   "output_path": "__notebook__.ipynb",
   "parameters": {},
   "start_time": "2020-10-15T16:08:11.503501",
   "version": "2.1.0"
  }
 },
 "nbformat": 4,
 "nbformat_minor": 1
}
